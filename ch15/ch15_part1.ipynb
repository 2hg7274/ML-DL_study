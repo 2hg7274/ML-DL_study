{
 "cells": [
  {
   "cell_type": "markdown",
   "metadata": {},
   "source": [
    "# 15장 - 심층 합성곱 신경망으로 이미지 분륜 (part 1)"
   ]
  },
  {
   "cell_type": "code",
   "execution_count": 2,
   "metadata": {},
   "outputs": [],
   "source": [
    "from IPython.display import Image"
   ]
  },
  {
   "cell_type": "markdown",
   "metadata": {},
   "source": [
    "# 합성곱 신경망의 구성 요소"
   ]
  },
  {
   "cell_type": "markdown",
   "metadata": {},
   "source": [
    "합성곱 신경망 또는 CNN은 뇌의 시각 피질이 물체를 인식할 때 동작하는 방식에서 영감을 얻은 모델이다.  \n",
    "\n",
    "이미지 분류 작업에서 CNN이 탁월한 성능을 내기 때문에 이 특별한 종류의 피드포워드 신경망은 크게 주목받았고 컴퓨터 비전을 위한 머신 러닝 분야를 크게 발전시켰다.  "
   ]
  },
  {
   "cell_type": "markdown",
   "metadata": {},
   "source": [
    "## CNN과 특성 계층 학습"
   ]
  },
  {
   "cell_type": "markdown",
   "metadata": {},
   "source": [
    "(관련이 높은)핵심 특징을 올바르게 추출하는 것은 모든 머신 러닝 알고리즘의 성능에서 아주 중요한 요소이다. 전통적인 머신 러닝 모델은 도메인 전문가가 만든 특성에 의존하거나 컴퓨터를 사용한 특성 추출 기법에 바탕을 두고 있다.  \n",
    "\n",
    "CNN과 같은 종류의 신경망은 원본 데이터에서 작업에 가장 유용한 특성을 자동으로 학습할 수 있다. 이런 이유 때문에 CNN 층을 특성 추출기로 생각하기도 한다. (입력층 바로 다음에 있는)층은 원본 데이터에서 저수준 특성을 추출한다. (종종 다층 퍼셉트론과 같은 완전 연결 층으로 만드는) 뒤쪽의 층은 이런 특성을 사용하여 연속적인 타깃 값이나 클래스 레이블을 예측한다. \n",
    "\n",
    "특정 종류의 다층 신경망과 특히 심층 합성곱 신경망은 각 층별로 저수준 특성을 연결하여 고수준 특성을 만듦으로써 소위 특성 계층을 구성한다. 예를 들어 이미지를 다룬다면 모서리나 동그라미 같은 저수준 특성이 앞쪽 층에서 추출된다. 이 특성들이 연결되어 고수준 특성을 형성한다. 이런 고수준 특성은 건물, 자동차, 강아지 같은 더 복잡한 모양을 형성할 수 있다."
   ]
  },
  {
   "cell_type": "code",
   "execution_count": 3,
   "metadata": {},
   "outputs": [
    {
     "data": {
      "text/html": [
       "<img src=\"https://git.io/JL5O3\" width=\"700\"/>"
      ],
      "text/plain": [
       "<IPython.core.display.Image object>"
      ]
     },
     "execution_count": 3,
     "metadata": {},
     "output_type": "execute_result"
    }
   ],
   "source": [
    "Image(url='https://git.io/JL5O3', width=700)"
   ]
  },
  {
   "cell_type": "markdown",
   "metadata": {},
   "source": [
    "위의 그림에서 보듯이 CNN은 입력 이미지에서 **특성 맵**(feature map)을 만든다. 이 맵의 각 원소는 입력 이미지의 국부적인 픽셀 패치(patch)에서 유도된다.  \n",
    "이런 국부적인 픽셀 패치를 국부 수용장(local receptive field)이라고 말한다. CNN은 일반적으로 이미지 관련 작업을 매우 잘 수행한다. 대체적으로 다음 두 개의 중요한 아이디어 때문이다.  \n",
    "\n",
    "- 희소 연결: 특성 맵에 있는 하나의 원소는 작은 픽셀 패치 하나에만 연결된다.  \n",
    "- 파라미터 공유: 동일한 가중치가 입력 이미지의 모든 패치에 사용된다.  \n",
    "\n",
    "이 두 아이디어 결과로 일반적인 완전 연결 MLP를 합성곱 층으로 바꾸면 네트워크의 가중치(파라미터)개수가 극적으로 감소하고 중요 특징을 잡아내는 능력이 향상된다. 이미지 데이터를 보면 가까이 있는 픽셀들이 멀리 떨어져 있는 픽셀보다 연관성이 높다고 가정할 수 있다.  \n",
    "\n",
    "일반적으로 CNN은 여러 개의 **합성곱**(conv) 층과 **풀링**(Pooling, P)이라고도 하는 서브샘플링(subsampling) 층으로 이루어져 있다.  \n",
    "마지막에는 하나 이상의 완전 연결(FC) 층이 따라온다. 완전 연결 층은 모든 유닛 i가 모든 출력 유닛 j에 가중치 $w_{ij}$로 연결되어 있는 다층 퍼셉트론이다.  \n",
    "\n",
    "**풀링 층**(pooling layer)으로 알려진 서브샘플링 층은 학습되는 파라미터가 없다. 즉, 풀링 층에는 가중치나 절편 유닛이 없다. 합성곱이나 완전 연결 층은 훈련 도중 최적화되는 가중치와 절편을 가진다.  "
   ]
  },
  {
   "cell_type": "markdown",
   "metadata": {},
   "source": [
    "## 이산 합성곱 수행"
   ]
  },
  {
   "cell_type": "markdown",
   "metadata": {},
   "source": [
    "**이산 합성곱**(discrete convolution(또는 간단히 합성곱)이 CNN의 기본 연산이다. 이 연산의 작동원리를 아는 것이 아주 중요하다. \n",
    "\n",
    "#### 1차원 이산 합성곱 연산 수행  \n",
    "앞으로 사용할 기본적인 정의와 기호를 설명하는 것부터 시작해보자.  \n",
    "두 개의 벡터 $x$와 $w$에 대한 이산 합성곱은 $y=x*w$처럼 나타낸다. $x$는 입력(이따금 신호라고 부름)이고 $w$는 **필터**(filter) 또는 **커널**(kernel)이라고 부른다.  \n",
    "이산 합성곱의 수학적 정의는 다음과 같다.  \n",
    "$$y=x*w \\rightarrow y[i]=\\sum^{+\\infty}_{k=-\\infty}x[i-k]w[k]$$  \n",
    "\n",
    "첫째 인덱스 $-\\infty$부터 $+\\infty$까지 합은 특히 이상하게 보인다. 머신 러닝 애플리케이션은 항상 유한한 특성 벡터를 다루기 때문이다.  \n",
    "이전 공식에 있는 덧셈을 올바르게 계산하려면 $x$와 $w$가 0으로 채워져 있다고 가정해야 한다. 또한, 출력 벡터 $y$도 0으로 채워진 무한 크기가 된다. 이는 실제 상황에서는 유용하지 않기 때문에 유한한 개수의 0으로 $x$가 패딩된다.  \n",
    "\n",
    "이 과정을 **제로 패딩**(zero padding) 또는 **패딩**(padding)이라고 한다. "
   ]
  },
  {
   "cell_type": "code",
   "execution_count": 4,
   "metadata": {},
   "outputs": [
    {
     "data": {
      "text/html": [
       "<img src=\"https://git.io/JL5On\" width=\"700\"/>"
      ],
      "text/plain": [
       "<IPython.core.display.Image object>"
      ]
     },
     "execution_count": 4,
     "metadata": {},
     "output_type": "execute_result"
    }
   ],
   "source": [
    "Image(url='https://git.io/JL5On', width=700)"
   ]
  },
  {
   "cell_type": "markdown",
   "metadata": {},
   "source": [
    "원본 입력 $x$와 필터 $w$가 각각 n개, m개의 원소를 가지고 $m \\le n$이라고 가정해 본다. 패딩도니 벡터 $x^{P}$크기는 $n+2P$이다. 이산 합성곱을 계산하기 위한 실제 공식은 다음과 같이 바뀐다.  \n",
    "$$y=x*w \\rightarrow y[i]=\\sum^{k=m-1}_{k=0}x[i+m-k]w[k]$$  "
   ]
  },
  {
   "cell_type": "code",
   "execution_count": 5,
   "metadata": {},
   "outputs": [
    {
     "data": {
      "text/html": [
       "<img src=\"https://git.io/JL5O8\" width=\"700\"/>"
      ],
      "text/plain": [
       "<IPython.core.display.Image object>"
      ]
     },
     "execution_count": 5,
     "metadata": {},
     "output_type": "execute_result"
    }
   ],
   "source": [
    "Image(url='https://git.io/JL5O8', width=700)"
   ]
  },
  {
   "cell_type": "markdown",
   "metadata": {},
   "source": [
    "위의 그림은 $x=(3,2,1,7,1,2,5,4)$이고 $w=({1 \\over 2}, {3 \\over 4}, 1, {1 \\over 4})$일 때 처음 세 개의 출력 원소를 계산하는 경우를 보여준다.  \n",
    "\n",
    "이 예에서 패딩 크기는 0이다. 회전된 필터 $w^{r}$은 2칸씩 이동한다. 이동하는 양은 스트라이드(stride)라고 하며, 또 하나의 합성곱 하이퍼파라미터이다. 여기서 스트라이드 2이다.  \n",
    "스트라이드는 입력 벡터의 크기보다 작은 양수 값이어야 한다.  \n",
    "</br>\n",
    "</br>\n",
    "#### 출력 특성 맵의 크기를 조절하기 위해 입력에 패딩하기\n",
    "지금까지 유한한 크기의 출력 벡터를 얻기 위해 합성곱에 제로 패딩을 사용했다. 기술적으로 $p \\ge 0$인 어떤 패딩도 적용할 수 있다. $p$값에 따라 $x$에서 경계에 있는 셀은 중간 셀과 다르게 처리된다.  \n",
    "\n",
    "$n=5, m=3, p=0$인 경우를 생각해보자. $x[0]$는 하나의 출력 원소를 계산하는 데만 사용된다. $x$원소를 이렇게 다르게 취급하기 때문에 가운데 있는 $x[2]$가 대부분의 계산에 사용되어 강조되는 효과를 낸다.  \n",
    "여기서는 $p=2$를 사용하면 이 문제를 피할 수 있다. $x$의 각 원소가 세 개의 $y$ 원소 계산에 참여한다.  \n",
    "\n",
    "또 출력 $y$ 크기는 사용한 패딩 방법에 따라 달라진다.  \n",
    "\n",
    "실전에서 자주 사용하는 세 개의 패딩 방법은 풀(full) 패딩, 세임(same) 패딩, 밸리드(valid) 패딩이다.  \n",
    "\n",
    "- 풀 패딩은 패딩 파라미터 $p$를 $p=m-1$로 설정한다. 풀 패딩은 출력 크기를 증가시키기 때문에 합성곱 신경망 구조에서는 거의 사용되지 않는다.  \n",
    "- 세임 패딩은 출력 크기가 입력 벡터 $x$와 같아야 할 때 사용한다. 이때 패딩 파라마미터 $p$는 입력과 출력 크기가 동일해야 하기 때문에 필터 크기에 따라 결정된다.  \n",
    "- 마지막으로 밸리드 패딩 합성곱은 $p=0$인 경우를 말한다.(패딩 없음)  "
   ]
  },
  {
   "cell_type": "code",
   "execution_count": 6,
   "metadata": {},
   "outputs": [
    {
     "data": {
      "text/html": [
       "<img src=\"https://git.io/JL5Ow\" width=\"700\"/>"
      ],
      "text/plain": [
       "<IPython.core.display.Image object>"
      ]
     },
     "execution_count": 6,
     "metadata": {},
     "output_type": "execute_result"
    }
   ],
   "source": [
    "Image(url='https://git.io/JL5Ow', width=700)"
   ]
  },
  {
   "cell_type": "markdown",
   "metadata": {},
   "source": [
    "위의 그림은 세 개의 패딩 모드를 보여준다. 입력은 5X5 픽셀, 커널은 3X3 크기, 스트라이드는 1인 경우이다.   \n",
    "\n",
    "***합성곱 신경망에서 가장 많이 사용되는 패딩 방법은 세임 패딩***이다. 다른 패딩 방식에 비해 장점은 세임 패딩이 벡터의 크기를 유지시킨다는 것이다. 컴퓨터 비전 분야의 이미지 관련된 작업이라면 입력 이미지의 높이와 너비가 유지된다. 이 때문에 네트워크 구조를 설계하기 쉽다.  \n",
    "\n",
    "풀 패딩이나 세임 패딩에 비해 밸리드 패딩의 단점은 신경망에 층이 추가될수록 점진적으로 텐서 크기가 줄어드는 것이다. 이는 신경망 성능을 나쁘게 만들 수 있다.  \n",
    "\n",
    "실전에서 세임 패딩으로 너비와 높이를 유지시키고 풀링에서 크기를 감소시킨다. 풀 패딩은 입력보다 출력 크기를 증가시키므로 경계 부분의 영향을 최소화하는 것이 중요한 신호 처리 애플리케이션에서 보통 사용한다. 딥려닝에서는 경계 부분의 영향이 크기 않기 때문에 실전에서는 풀 패딩이 거의 사용되지 않는다.  \n",
    "</br>\n",
    "</br>\n",
    "#### 합성곱 출력 크기 계산 \n",
    "합성곱 출력 크기는 입력 벡터 위를 필터 $w$가 이동하는 전체 횟수로 결정된다. 입력 벡터의 크기는 $n$이고 필터 크기는 $m$이라고 가정해 보자. 패딩이 $p$이고 스트라이드가 $s$인 $x*w$ 출력 크기는 다음과 같이 계산된다.  \n",
    "$$o=\\left[ {n+2p-m \\over s} \\right]+1$$  \n",
    "\n",
    "다음 두 경우를 생각해보자.  \n",
    "- 입력 벡터 크기가 10이고 합성곱 커널 크기가 5, 패딩이 2, 스트라이드가 1일 때 출력 크기를 계산해보자.  \n",
    "$$n=10, m=5, p=2, s=1 \\rightarrow o=\\left[ {10+2\\times2-5 \\over 1}\\right]+1 = 10$$  \n",
    "(이때는 출력 크기가 입력과 동일하므로 세임 패딩이다.)  \n",
    "\n",
    "- 커널 크기가 3이고 스트라이드가 2이면 같은 입력 벡터일 때 출력 크기가 어떻게 바뀔까?  \n",
    "$$n=10, m=3, p=2, s=2 \\rightarrow o=\\left[  {10+2\\times2-3 \\over 2}\\right]+1=6$$  \n",
    "\n"
   ]
  },
  {
   "cell_type": "code",
   "execution_count": 7,
   "metadata": {},
   "outputs": [
    {
     "name": "stdout",
     "output_type": "stream",
     "text": [
      "텐서플로 버전: 2.5.0\n",
      "넘파이 버전:  1.19.5\n"
     ]
    }
   ],
   "source": [
    "import tensorflow as tf\n",
    "import numpy as np\n",
    "\n",
    "print('텐서플로 버전:', tf.__version__)\n",
    "print('넘파이 버전: ', np.__version__)"
   ]
  },
  {
   "cell_type": "code",
   "execution_count": 8,
   "metadata": {},
   "outputs": [
    {
     "name": "stdout",
     "output_type": "stream",
     "text": [
      "Conv1d 구현: [ 5. 14. 16. 26. 24. 34. 19. 22.]\n",
      "넘파이 결과: [ 5 14 16 26 24 34 19 22]\n"
     ]
    }
   ],
   "source": [
    "def conv1d(x, w, p=0, s=1):\n",
    "    w_rot = np.array(w[::-1])\n",
    "    x_padded = np.array(x)\n",
    "    if p > 0:\n",
    "        zero_pad = np.zeros(shape=p)\n",
    "        x_padded = np.concatenate(\n",
    "            [zero_pad, x_padded, zero_pad])\n",
    "    res = []\n",
    "    for i in range(0, int((len(x_padded) - len(w_rot)) / s) + 1, s):\n",
    "        res.append(np.sum(\n",
    "            x_padded[i:i+w_rot.shape[0]] * w_rot))\n",
    "    return np.array(res)\n",
    "\n",
    "\n",
    "## 테스트:\n",
    "x = [1, 3, 2, 4, 5, 6, 1, 3]\n",
    "w = [1, 0, 3, 1, 2]\n",
    "\n",
    "print('Conv1d 구현:',\n",
    "      conv1d(x, w, p=2, s=1))\n",
    "\n",
    "print('넘파이 결과:',\n",
    "      np.convolve(x, w, mode='same')) "
   ]
  },
  {
   "cell_type": "markdown",
   "metadata": {},
   "source": [
    "####  2D 이산 합성곱 수행\n",
    "$m_{1} \\le n_{1}$이고 $m_{2} \\le n_{2}$인 행렬 $X_{n_{1}\\times n_{2}}$와 필터 행렬 $W_{m_{1} \\times m_{2}}$같은 2차원 입력을 다룰 때 $X$와 $W$의 2D 합성곱 결과는 행렬 $Y=X*W$가 된다.  \n",
    "$$Y= X*W \\rightarrow Y[i,j] = \\sum^{+\\infty}_{k_{1}=-\\infty} \\sum^{+\\infty}_{k_{2}=-\\infty} X[i-k_{1}, j-k_{2}]W[k_{1},k_{2}]$$  \n",
    "\n",
    "차원 하나를 제거하면 남은 공식이 이전의 1D 합성곱과 정확히 동일하다. 사실 제로 패딩, 필터 행렬의 회전, 스트라이드 같은 이전에 언급한 모든 기법도 2D 합성곱에 적용할 수 있다."
   ]
  },
  {
   "cell_type": "code",
   "execution_count": 9,
   "metadata": {},
   "outputs": [
    {
     "data": {
      "text/html": [
       "<img src=\"https://git.io/JL5OP\" width=\"700\"/>"
      ],
      "text/plain": [
       "<IPython.core.display.Image object>"
      ]
     },
     "execution_count": 9,
     "metadata": {},
     "output_type": "execute_result"
    }
   ],
   "source": [
    "Image(url='https://git.io/JL5OP', width=700)"
   ]
  },
  {
   "cell_type": "markdown",
   "metadata": {},
   "source": [
    "위의 그림은 8X8인 입력 행렬과 3X3 크기의 커널을 사용한 2D 합성곱은 보여준다. 입력 행렬이 p=1로 제로 패딩되어 있다. 이로 인해 2D 합성곱은 8X8 크기의 출력을 만든다."
   ]
  },
  {
   "cell_type": "code",
   "execution_count": 10,
   "metadata": {},
   "outputs": [
    {
     "data": {
      "text/html": [
       "<img src=\"https://git.io/JL5OD\" width=\"600\"/>"
      ],
      "text/plain": [
       "<IPython.core.display.Image object>"
      ]
     },
     "execution_count": 10,
     "metadata": {},
     "output_type": "execute_result"
    }
   ],
   "source": [
    "Image(url='https://git.io/JL5OD', width=600)"
   ]
  },
  {
   "cell_type": "code",
   "execution_count": 11,
   "metadata": {},
   "outputs": [
    {
     "data": {
      "text/html": [
       "<img src=\"https://git.io/JL5OS\" width=\"800\"/>"
      ],
      "text/plain": [
       "<IPython.core.display.Image object>"
      ]
     },
     "execution_count": 11,
     "metadata": {},
     "output_type": "execute_result"
    }
   ],
   "source": [
    "Image(url='https://git.io/JL5OS', width=800)"
   ]
  },
  {
   "cell_type": "markdown",
   "metadata": {},
   "source": [
    "위의 예는 패딩 p=(1,1)과 스트라이드 s=(2,2)일 때 입력 행렬 $X_{3\\times 3}$과 커널 행렬 $W_{3 \\times 3}$ 사이의 2D 합성곱 계산을 보여준다."
   ]
  },
  {
   "cell_type": "code",
   "execution_count": 12,
   "metadata": {},
   "outputs": [
    {
     "name": "stdout",
     "output_type": "stream",
     "text": [
      "Conv2d 구현:\n",
      " [[11. 25. 32. 13.]\n",
      " [19. 25. 24. 13.]\n",
      " [13. 28. 25. 17.]\n",
      " [11. 17. 14.  9.]]\n",
      "싸이파이 결과:\n",
      " [[11 25 32 13]\n",
      " [19 25 24 13]\n",
      " [13 28 25 17]\n",
      " [11 17 14  9]]\n"
     ]
    }
   ],
   "source": [
    "import scipy.signal\n",
    "\n",
    "\n",
    "def conv2d(X, W, p=(0, 0), s=(1, 1)):\n",
    "    W_rot = np.array(W)[::-1,::-1]\n",
    "    X_orig = np.array(X)\n",
    "    n1 = X_orig.shape[0] + 2*p[0]\n",
    "    n2 = X_orig.shape[1] + 2*p[1]\n",
    "    X_padded = np.zeros(shape=(n1, n2))\n",
    "    X_padded[p[0]:p[0]+X_orig.shape[0],\n",
    "    p[1]:p[1]+X_orig.shape[1]] = X_orig\n",
    "\n",
    "    res = []\n",
    "    for i in range(0, int((X_padded.shape[0] - \n",
    "                           W_rot.shape[0])/s[0])+1, s[0]):\n",
    "        res.append([])\n",
    "        for j in range(0, int((X_padded.shape[1] - \n",
    "                               W_rot.shape[1])/s[1])+1, s[1]):\n",
    "            X_sub = X_padded[i:i+W_rot.shape[0],\n",
    "                             j:j+W_rot.shape[1]]\n",
    "            res[-1].append(np.sum(X_sub * W_rot))\n",
    "    return(np.array(res))\n",
    "\n",
    "X = [[1, 3, 2, 4], [5, 6, 1, 3], [1, 2, 0, 2], [3, 4, 3, 2]]\n",
    "W = [[1, 0, 3], [1, 2, 1], [0, 1, 1]]\n",
    "\n",
    "print('Conv2d 구현:\\n',\n",
    "    conv2d(X, W, p=(1, 1), s=(1, 1)))\n",
    "\n",
    "\n",
    "print('싸이파이 결과:\\n',\n",
    "    scipy.signal.convolve2d(X, W, mode='same'))"
   ]
  },
  {
   "cell_type": "markdown",
   "metadata": {},
   "source": [
    "## 서브샘플링"
   ]
  },
  {
   "cell_type": "markdown",
   "metadata": {},
   "source": [
    "서브샘플링은 전형적인 두 종류의 풀링 연산으로 합성곱 신경망에 적용된다. **최대 풀링**(max-pooling)과 **평균 풀링**(mean-pooling 또는 average-pooling)이다.  \n",
    "풀링 층은 보통 $P_{n_{1} \\times n_{2}}$로 표시한다. "
   ]
  },
  {
   "cell_type": "code",
   "execution_count": 13,
   "metadata": {},
   "outputs": [
    {
     "data": {
      "text/html": [
       "<img src=\"https://git.io/JL5OH\" width=\"700\"/>"
      ],
      "text/plain": [
       "<IPython.core.display.Image object>"
      ]
     },
     "execution_count": 13,
     "metadata": {},
     "output_type": "execute_result"
    }
   ],
   "source": [
    "Image(url='https://git.io/JL5OH', width=700)"
   ]
  },
  {
   "cell_type": "markdown",
   "metadata": {},
   "source": [
    "풀링의 장점은 두 가지이다.  \n",
    "- 풀링(최대 풀링)은 지역 불변성을 만든다. 국부적인 작은 변화가 최대 풀링의 결괄르 바꾸지 못한다는 의미이다. 결국 입력 데이터에 있는 잡음에 좀 더 안정적인 특성을 생성한다.  \n",
    "- 풀링은 특성 크기를 줄이므로 계산 효율성을 높인다. 또 특성 개수가 줄어들면 과대적합도 감소된다.  \n",
    "\n",
    "풀링이 아직 CNN 구조의 핵심 요소이지만 몇몇 CNN 구조는 풀링 층을 사용하지 않고 개발되었다. 특성 맵의 크기를 줄이기 위해 풀링 층을 사용하는 대신 스트라이드 2인 합성곱 층을 사용한다.  \n",
    "\n",
    "스트라이드 2인 합성곱 층을 합습되는 가중치가 있는 풀링 층으로 생각할 수 있다. "
   ]
  },
  {
   "cell_type": "markdown",
   "metadata": {},
   "source": [
    "# 기본 구성 요소를 사용하여 심층 합성곱 신경망 구성"
   ]
  },
  {
   "cell_type": "markdown",
   "metadata": {},
   "source": [
    "일반적인 신경망에서 가장 중요한 연산은 행렬-벡터 곱셈이다.  \n",
    "예를 들어 행렬-벡터 곱셈을 사용하여 활성화 함수의 입력 $z=Wx+b$를 계산한다. 여기서 $x$는 픽셀을 나타내는 열 벡터이고 $W$는 입력 필셀과 각 은닉 유닛을 연결하는 가중치 행렬이다. "
   ]
  },
  {
   "cell_type": "markdown",
   "metadata": {},
   "source": [
    "## 여러 개의 입력 또는 컬러 채널 다루기"
   ]
  },
  {
   "cell_type": "markdown",
   "metadata": {},
   "source": [
    "합성곱 층의 입력 샘플에는 $N_{1} \\times N_{2}$ 차원인 하나 이상의 2D 배열 또는 행렬이 포함될 수 있다. 이런 $N_{1} \\times N_{2}$ 행렬을 **채널**(channel)이라고 한다.  \n",
    "합성곱 층은 랭크 3 텐서를 입력으로 기대한다. 예를 들어 3차원 배열 $X_{N_{1} \\times N_{2} \\times C_{m}}$을 사용해야 한다. 여기서 $C_{m}$이 입력 채널 크기이다.  \n",
    "예를 들어 CNN의 첫 번째 층에 입력되는 이미지를 생각해보자. RGB 모드의 컬러 이미지라면 $C_{m}=3$이다. 이미지가 그레이스케일(grayscale)이라면 흑백의 픽셀 강도를 가진 하나의 채널만 있으므로 $C_{m}=1$이다."
   ]
  },
  {
   "cell_type": "markdown",
   "metadata": {},
   "source": [
    "### Note \n",
    "이미지 파일 읽기"
   ]
  },
  {
   "cell_type": "code",
   "execution_count": 14,
   "metadata": {},
   "outputs": [
    {
     "name": "stdout",
     "output_type": "stream",
     "text": [
      "--2022-11-24 11:22:37--  https://git.io/JL5Ob\n",
      "git.io (git.io) 해석 중... 140.82.114.22\n",
      "다음으로 연결 중: git.io (git.io)|140.82.114.22|:443... 연결했습니다.\n",
      "HTTP 요청을 보냈습니다. 응답 기다리는 중... 302 Found\n",
      "위치: https://github.com/rickiepark/python-machine-learning-book-3rd-edition/raw/master/ch15/example-image.png [따라감]\n",
      "--2022-11-24 11:22:38--  https://github.com/rickiepark/python-machine-learning-book-3rd-edition/raw/master/ch15/example-image.png\n",
      "github.com (github.com) 해석 중... 20.200.245.247\n",
      "다음으로 연결 중: github.com (github.com)|20.200.245.247|:443... 연결했습니다.\n",
      "HTTP 요청을 보냈습니다. 응답 기다리는 중... 302 Found\n",
      "위치: https://raw.githubusercontent.com/rickiepark/python-machine-learning-book-3rd-edition/master/ch15/example-image.png [따라감]\n",
      "--2022-11-24 11:22:38--  https://raw.githubusercontent.com/rickiepark/python-machine-learning-book-3rd-edition/master/ch15/example-image.png\n",
      "raw.githubusercontent.com (raw.githubusercontent.com) 해석 중... 185.199.108.133, 185.199.109.133, 185.199.110.133, ...\n",
      "다음으로 연결 중: raw.githubusercontent.com (raw.githubusercontent.com)|185.199.108.133|:443... 연결했습니다.\n",
      "HTTP 요청을 보냈습니다. 응답 기다리는 중... 200 OK\n",
      "길이: 22283 (22K) [image/png]\n",
      "저장 위치: `example-image.png'\n",
      "\n",
      "example-image.png   100%[===================>]  21.76K  --.-KB/s    /  0s      \n",
      "\n",
      "2022-11-24 11:22:38 (83.3 MB/s) - `example-image.png' 저장함 [22283/22283]\n",
      "\n"
     ]
    }
   ],
   "source": [
    "!wget https://git.io/JL5Ob -O example-image.png"
   ]
  },
  {
   "cell_type": "code",
   "execution_count": 16,
   "metadata": {},
   "outputs": [
    {
     "name": "stdout",
     "output_type": "stream",
     "text": [
      "이미지 크기: (252, 221, 3)\n",
      "채널 개수: 3\n",
      "이미지 데이터 타입: <dtype: 'uint8'>\n",
      "tf.Tensor(\n",
      "[[[179 134 110]\n",
      "  [182 136 112]]\n",
      "\n",
      " [[180 135 111]\n",
      "  [182 137 113]]], shape=(2, 2, 3), dtype=uint8)\n"
     ]
    }
   ],
   "source": [
    "import tensorflow as tf\n",
    "\n",
    "img_raw = tf.io.read_file('example-image.png')\n",
    "img = tf.image.decode_image(img_raw)\n",
    "print('이미지 크기:', img.shape)\n",
    "print('채널 개수:', img.shape[2])\n",
    "print('이미지 데이터 타입:', img.dtype)\n",
    "print(img[100:102, 100:102, :])"
   ]
  },
  {
   "cell_type": "code",
   "execution_count": 20,
   "metadata": {},
   "outputs": [
    {
     "name": "stdout",
     "output_type": "stream",
     "text": [
      "이미지 크기: (252, 221, 3)\n",
      "채널 개수: 3\n",
      "이미지 데이터 타입: uint8\n",
      "[[[179 134 110]\n",
      "  [182 136 112]]\n",
      "\n",
      " [[180 135 111]\n",
      "  [182 137 113]]]\n"
     ]
    },
    {
     "name": "stderr",
     "output_type": "stream",
     "text": [
      "/var/folders/tb/x7hcv5j94gn9b46c7qc1vfth0000gn/T/ipykernel_6203/504236035.py:4: DeprecationWarning: Starting with ImageIO v3 the behavior of this function will switch to that of iio.v3.imread. To keep the current behavior (and make this warning disappear) use `import imageio.v2 as imageio` or call `imageio.v2.imread` directly.\n",
      "  img = imageio.imread('example-image.png')\n"
     ]
    }
   ],
   "source": [
    "import imageio\n",
    "\n",
    "\n",
    "img = imageio.imread('example-image.png')\n",
    "print('이미지 크기:', img.shape)\n",
    "print('채널 개수:', img.shape[2])\n",
    "print('이미지 데이터 타입:', img.dtype)\n",
    "print(img[100:102, 100:102, :])"
   ]
  },
  {
   "cell_type": "code",
   "execution_count": 21,
   "metadata": {},
   "outputs": [
    {
     "data": {
      "text/html": [
       "<img src=\"https://git.io/JL5O5\" width=\"800\"/>"
      ],
      "text/plain": [
       "<IPython.core.display.Image object>"
      ]
     },
     "execution_count": 21,
     "metadata": {},
     "output_type": "execute_result"
    }
   ],
   "source": [
    "Image(url='https://git.io/JL5O5', width=800)"
   ]
  },
  {
   "cell_type": "markdown",
   "metadata": {},
   "source": [
    "위의 그림에 나온 합성곱 층과 풀링 층이 포함된 예제를 통해 신경망의 합성곱 계산을 정리한다.  \n",
    "이 예에는 입력 채널이 세 개이다. 커널 텐서는 4차원이다. 각 커널 행렬은 $m_{1} \\times m_{2}$ 크기이고 입력 채널에 한 개씩 세 개이다.  \n",
    "이런 커널 텐서가 다섯 개의 출력 특성 맵을 만들기 위해 다섯 개가 있다. 마지막으로 특성 맵을 서브샘플링하기 위해 풀링 층이 있다."
   ]
  },
  {
   "cell_type": "markdown",
   "metadata": {},
   "source": [
    "## 드롭아웃으로 신경망 규제"
   ]
  },
  {
   "cell_type": "markdown",
   "metadata": {},
   "source": [
    "일반적인 (완전 연결) 신경망 또는 CNN 중 어떤 것을 사용하든지 네트워크 크기를 결정하는 것은 항상 어려운 문제이다. 어느 정도 좋은 성능을 얻으려면 가중치 행렬 크기와 층 개수를 튜닝해야만 한다.  \n",
    "\n",
    "14장에서 보았듯이 은닉층이 없는 간단한 신경망은 선형 결정 경계만 감지할 수 있어 XOR이나 비슷한 문제를 해결하는 데 충분하지 않다. 네트워크의 수용 능력은 얼마나 복잡한 함수를 근사할 수 있는지를 나타낸다. 파라미터 개수가 비교적 적은 네트워크는 용량이 작기 때문에 **과소적합**되기 쉽다. 이는 복잡한 데이터셋에 내재된 구조를 학습할 수 없기 때문에 성능이 나빠진다. 반면 아주 큰 네트워크는 **과대적합**될 가능성이 많다. 이런 네트워크가 훈련 데이터를 외워 버리면 훈련 데이터셋에서는 아주 잘 작동하지만 별도의 테스트 데이터셋에서는 나쁜 성능을 낼 것이다. 실제 머신 러닝 문제를 다룰 때는 네트워크가 커야 하는지 사전에 알 수 없다.  \n",
    "\n",
    "이 문제를 해결하기 위한 한 가지 방법은 다음과 같다.  \n",
    "먼저 훈련 데이터셋에서 잘 동작하도록 비교적 큰 용량의 네트워크를 구축한다. 그다음 과대적합을 막기 위해 한 개 이상의 규제 방법을 적용하여 별도의 테스트 데이터셋 같은 새로운 데이터에서 일반화 성능을 높인다.  \n",
    "\n",
    "3장에서 L1 규제와 L2 규제를 소개했다. L1 규제와 L2 규제 방법이 손실 함수에 페널티를 추가하여 훈련 중에 가중치 크기를 작게 만들기 때문에 과대적합의 영향을 막거나 감소시킬 수 있다. L1 규제와 L2 규제 모두 신경망에 사용할 수 있지만 L2 규제가 둘 중 더 많이 사용된다. 이외에도 **드롭아웃**(dropout)같은 신경망을 규제하는 다른 방법이 있다. 드롭아웃에 대해 설명하기 전에 합성곱이나 완전 연결 신경망에서 L2 규제를 사용하는 방법을 알아보자. "
   ]
  },
  {
   "cell_type": "code",
   "execution_count": 22,
   "metadata": {},
   "outputs": [],
   "source": [
    "from tensorflow import keras\n",
    "\n",
    "\n",
    "conv_layer = keras.layers.Conv2D(\n",
    "    filters=16, kernel_size=(3, 3),\n",
    "    kernel_regularizer=keras.regularizers.l2(0.001))\n",
    "\n",
    "fc_layer = keras.layers.Dense(\n",
    "    units=16, kernel_regularizer=keras.regularizers.l2(0.001))"
   ]
  },
  {
   "cell_type": "markdown",
   "metadata": {},
   "source": [
    "최근에는 **드롭아웃**(dropout) 방법이 인기가 높다. 신경망에 적용하여 과대적합을 피할 수 있고 따라서 일반화 성능이 향상된다.  \n",
    "드롭아웃은 보통 뒤쪽 층의 은닉 유닛에 적용하고 다음과 같이 동작한다.  \n",
    "신경망을 훈련하는 동안 반복마다 은닉 유닛의 일부가 확률 $p_{drop}$만큼 랜덤하게 드롭아웃된다. 드롭아웃 확률은 사용자가 지정해야 한다. 니티시 스리바스타바 등의 논문에 따르면 많이 사용하는 값은 $p=0.5$이다.  \n",
    "일부 뉴런의 일부를 드롭아웃할 때 없어진 뉴런을 보상하기 위해 남은 뉴런에 연결된 가중치 값을 크게 한다.  \n",
    "\n",
    "랜덤한 드롭아웃의 영향으로 네트워크는 데이터에서 여분의 표현을 학습한다. 따라서 네트워크가 일부 은닉 유닛의 활성화 값에 의존할 수 없다. 훈련 과정에서 언제든지 은닉 유닛이 꺼질 수 있기 때문이다. 이는 네트워크가 데이터에서 더 일반적이고 안정적인 패턴을 학습하게 만든다.  "
   ]
  },
  {
   "cell_type": "code",
   "execution_count": 23,
   "metadata": {},
   "outputs": [
    {
     "data": {
      "text/html": [
       "<img src=\"https://git.io/JL5Oh\" width=\"700\"/>"
      ],
      "text/plain": [
       "<IPython.core.display.Image object>"
      ]
     },
     "execution_count": 23,
     "metadata": {},
     "output_type": "execute_result"
    }
   ],
   "source": [
    "Image(url='https://git.io/JL5Oh', width=700)"
   ]
  },
  {
   "cell_type": "markdown",
   "metadata": {},
   "source": [
    "여기서 보듯이 훈련 단계에서만 유닛이 랜덤하게 꺼진다는 것이 중요하다. 평가(추론) 단계에서는 모든 유닛이 활성화되어야 한다.  \n",
    "훈련과 예측 단계의 전체 활성화 값의 스케일을 맞추기 위해 활성화된 뉴런 출력이 적절히 조정되어야 한다.  \n",
    "\n",
    "실전에서 예측을 만들 때 활성화 값의 출력을 조정하는 것은 불편하기 때문에 텐서플로나 다른 라이브러리들은 훈련 단계의 활성화를 조정한다. 이런 방법을 역 드롭아웃(inverse dropout)이라고 부른다. \n",
    "\n",
    "관계가 명백하지는 않지만 드롭아웃을 앙상블 모델의 합의(평균)로 이해할 수 있다.  \n",
    "앙상블 모델에서는 여러 개의 모델을 독립적으로 훈련한다. 예측할 때 훈련된 전체 모델의 결과를 평균하거나 다수를 사용한다. 앙상블 모델이 단일 모델보다 더 높은 성능을 낸다는 것을 보았다. 하지만 딥러닝에서 여러 개의 모델을 훈련하고 출력을 평균하는 것은 계산 비용이 많이 든다. 드롭아웃은 차선책으로 한 번에 많은 모델을 훈련하고 테스트 또는 예측할 때 평균값을 계산하는 효과적인 방법을 제공한다.  "
   ]
  },
  {
   "cell_type": "markdown",
   "metadata": {},
   "source": [
    "## 분류를 위한 손실 함수"
   ]
  },
  {
   "cell_type": "markdown",
   "metadata": {},
   "source": [
    "13장에서 렐루, 시그모이드, tanh 같은 여러 가지 활성화 함수를 보았다.  \n",
    "렐루와 같은 몇몇 활성화 함수는 모델에 비선형성을 더하기 위해 신경망의 중간(은닉)층에 주로 사용된다. (이진 분류일 경우) 시그모이드와 (다중 분류일 경우) 소프트맥스 활성화 함수는 마지막 (출력)층에 추가되어 클래스 소속 확률을 출력한다.  \n",
    "시그모이드와 소프트맥스 활성화 함수가 출력층에 포함되지 않으면 모델은 클래스 소속 확률 대신 로짓을 계산할 것이다.  \n",
    "\n",
    "분류 문제에 초점을 맞추어 보면 문제의 종류(이진 분류 대 다중 분류)와 출력의 형태(로짓 대 확률)에 따라 모델 훈련에 필요한 적절한 손실 함수를 선택해야 한다.  \n",
    "**이진 크로스 엔트로피**(binary cross-entropy)는 이진 분류를 위한 손실 함수이다. **범주형 크로스 엔트로피**(categorical cross-entropy)는 다중 분류를 위한 손실 함수이다. "
   ]
  },
  {
   "cell_type": "code",
   "execution_count": 24,
   "metadata": {},
   "outputs": [
    {
     "data": {
      "text/html": [
       "<img src=\"https://git.io/JL53f\" width=\"800\"/>"
      ],
      "text/plain": [
       "<IPython.core.display.Image object>"
      ]
     },
     "execution_count": 24,
     "metadata": {},
     "output_type": "execute_result"
    }
   ],
   "source": [
    "Image(url='https://git.io/JL53f', width=800)"
   ]
  },
  {
   "cell_type": "code",
   "execution_count": 26,
   "metadata": {},
   "outputs": [
    {
     "name": "stdout",
     "output_type": "stream",
     "text": [
      "BCE (확률): 0.3711 (로짓): 0.3711\n",
      "CCE (확률): 0.5996 (로짓): 0.5996\n",
      "Sparse CCE (확률): 0.5996 (로짓): 0.5996\n"
     ]
    },
    {
     "name": "stderr",
     "output_type": "stream",
     "text": [
      "/var/folders/tb/x7hcv5j94gn9b46c7qc1vfth0000gn/T/ipykernel_6203/1516748754.py:27: DeprecationWarning: distutils Version classes are deprecated. Use packaging.version instead.\n",
      "  if Version(tf.__version__) >= '2.3.0':\n"
     ]
    }
   ],
   "source": [
    "from distutils.version import LooseVersion as Version\n",
    "\n",
    "\n",
    "####### 이진 크로스 엔트로피\n",
    "bce_probas = tf.keras.losses.BinaryCrossentropy(from_logits=False)\n",
    "bce_logits = tf.keras.losses.BinaryCrossentropy(from_logits=True)\n",
    "\n",
    "logits = tf.constant([0.8])\n",
    "probas = tf.keras.activations.sigmoid(logits)\n",
    "\n",
    "tf.print(\n",
    "    'BCE (확률): {:.4f}'.format(\n",
    "    bce_probas(y_true=[1], y_pred=probas)),\n",
    "    '(로짓): {:.4f}'.format(\n",
    "    bce_logits(y_true=[1], y_pred=logits)))\n",
    "\n",
    "\n",
    "####### 범주형 크로스 엔트로피\n",
    "cce_probas = tf.keras.losses.CategoricalCrossentropy(\n",
    "    from_logits=False)\n",
    "cce_logits = tf.keras.losses.CategoricalCrossentropy(\n",
    "    from_logits=True)\n",
    "\n",
    "logits = tf.constant([[1.5, 0.8, 2.1]])\n",
    "probas = tf.keras.activations.softmax(logits)\n",
    "\n",
    "if Version(tf.__version__) >= '2.3.0':\n",
    "    tf.print(\n",
    "        'CCE (확률): {:.4f}'.format(\n",
    "        cce_probas(y_true=[[0, 0, 1]], y_pred=probas)),\n",
    "        '(로짓): {:.4f}'.format(\n",
    "        cce_logits(y_true=[[0, 0, 1]], y_pred=logits)))\n",
    "else:\n",
    "    tf.print(\n",
    "        'CCE (확률): {:.4f}'.format(\n",
    "        cce_probas(y_true=[0, 0, 1], y_pred=probas)),\n",
    "        '(로짓): {:.4f}'.format(\n",
    "        cce_logits(y_true=[0, 0, 1], y_pred=logits)))\n",
    "\n",
    "####### 희소 범주형 크로스 엔트로피\n",
    "sp_cce_probas = tf.keras.losses.SparseCategoricalCrossentropy(\n",
    "    from_logits=False)\n",
    "sp_cce_logits = tf.keras.losses.SparseCategoricalCrossentropy(\n",
    "    from_logits=True)\n",
    "\n",
    "tf.print(\n",
    "    'Sparse CCE (확률): {:.4f}'.format(\n",
    "    sp_cce_probas(y_true=[2], y_pred=probas)),\n",
    "    '(로짓): {:.4f}'.format(\n",
    "    sp_cce_logits(y_true=[2], y_pred=logits)))"
   ]
  },
  {
   "cell_type": "markdown",
   "metadata": {},
   "source": [
    "# 텐서플로를 사용하여 심층 합성곱 신경망 구현"
   ]
  },
  {
   "cell_type": "markdown",
   "metadata": {},
   "source": [
    "여기서는 손글씨 숫자 분류를 위해 CNN을 구현하여 MLP(DNNClassifier)보다 더 높은 성능을 낼 수 있는지 확인해보자."
   ]
  },
  {
   "cell_type": "markdown",
   "metadata": {},
   "source": [
    "## 다층 CNN 구조"
   ]
  },
  {
   "cell_type": "markdown",
   "metadata": {},
   "source": [
    "입력은 28X28 크기의 그레이스케일 이미지이다. 채널 개수(그레이스케일 이미지이므로 1)와 입력 이미지의 배치를 생각하면 입력 텐서의 차원은 batchsizeX28X28X1이 된다.  \n",
    "\n",
    "입력 데이터는 5X5 크기의 커널을 가진 두 개의 합성곱 층을 지난다.  \n",
    "첫 번째 합성곱은 32개의 특성 맵을 출력하고 두 번째는 64개의 특성 맵을 출력한다. 각 합성곱 층 다음에는 서브샘플링으로 최대 풀링 연산 $P_{2 \\times 2}$가 뒤따른다. 그다음 완전 연결 층의 출력이 최종 소프트맥스 층인 두 번째 완전 연결 층으로 전달된다.   \n",
    "\n",
    "각 층의 텐서 차원은 다음과 같다.  \n",
    "- 입력: [batchsize X 28 X 28 X 1]\n",
    "- 합성곱_1: [batchsize X 28 X 28 X 32]  \n",
    "- 풀링_1: [batchsize X 14 X 14 X 32]  \n",
    "- 합성곱_2: [batchsize X  14 X 14 X 64]  \n",
    "- 풀링_2: [batchsize X 7 X 7 X 64]  \n",
    "- 완전 연결_1: [batchsize X 1024]  \n",
    "- 완전 연결과 소프트맥스 층: [batchsize X 10]  "
   ]
  },
  {
   "cell_type": "markdown",
   "metadata": {},
   "source": [
    "## 데이터 적재와 전처리"
   ]
  },
  {
   "cell_type": "code",
   "execution_count": 27,
   "metadata": {},
   "outputs": [
    {
     "name": "stderr",
     "output_type": "stream",
     "text": [
      "/Users/hanhyeongu/miniforge3/envs/hg/lib/python3.8/site-packages/tqdm/auto.py:22: TqdmWarning: IProgress not found. Please update jupyter and ipywidgets. See https://ipywidgets.readthedocs.io/en/stable/user_install.html\n",
      "  from .autonotebook import tqdm as notebook_tqdm\n"
     ]
    }
   ],
   "source": [
    "import tensorflow_datasets as tfds\n",
    "\n",
    "## 데이터 적재\n",
    "mnist_bldr = tfds.builder('mnist')\n",
    "mnist_bldr.download_and_prepare()\n",
    "datasets = mnist_bldr.as_dataset(shuffle_files=False)\n",
    "mnist_train_orig = datasets['train']\n",
    "mnist_test_orig = datasets['test']"
   ]
  },
  {
   "cell_type": "code",
   "execution_count": 28,
   "metadata": {},
   "outputs": [],
   "source": [
    "BUFFER_SIZE = 10000\n",
    "BATCH_SIZE = 64\n",
    "NUM_EPOCHS = 20"
   ]
  },
  {
   "cell_type": "code",
   "execution_count": 29,
   "metadata": {},
   "outputs": [],
   "source": [
    "mnist_train = mnist_train_orig.map(\n",
    "    lambda item: (tf.cast(item['image'], tf.float32)/255.0,\n",
    "                  tf.cast(item['label'], tf.int32)))\n",
    "            \n",
    "mnist_test = mnist_test_orig.map(\n",
    "    lambda item: (tf.cast(item['image'], tf.float32)/255.0,\n",
    "                  tf.cast(item['label'], tf.int32)))\n",
    "\n",
    "tf.random.set_seed(1)\n",
    "\n",
    "mnist_train = mnist_train.shuffle(buffer_size=BUFFER_SIZE,\n",
    "                                  reshuffle_each_iteration=False)\n",
    "\n",
    "mnist_valid = mnist_train.take(10000).batch(BATCH_SIZE)\n",
    "mnist_train = mnist_train.skip(10000).batch(BATCH_SIZE)"
   ]
  },
  {
   "cell_type": "markdown",
   "metadata": {},
   "source": [
    "## 텐서플로 케라스 API를 사용하여 CNN 구현"
   ]
  },
  {
   "cell_type": "markdown",
   "metadata": {},
   "source": [
    "#### 케라스에서 CNN 층 설정하기\n",
    "- Conv2D: tf.keras.layers.Conv2D  \n",
    "    - filters  \n",
    "    - kernel_size  \n",
    "    - strides  \n",
    "    - padding  \n",
    "- MaxPooling2D: tf.keras.layers.MaxPool2D  \n",
    "    - pool_size  \n",
    "    - strids  \n",
    "    - padding  \n",
    "- Dropout: tf.keras.layers.Dropout2D  \n",
    "    - rate"
   ]
  },
  {
   "cell_type": "markdown",
   "metadata": {},
   "source": [
    "#### 케라스로 CNN 구성하기"
   ]
  },
  {
   "cell_type": "code",
   "execution_count": 30,
   "metadata": {},
   "outputs": [],
   "source": [
    "model = tf.keras.Sequential()\n",
    "\n",
    "model.add(tf.keras.layers.Conv2D(\n",
    "    filters=32, kernel_size=(5, 5),\n",
    "    strides=(1, 1), padding='same',\n",
    "    data_format='channels_last',\n",
    "    name='conv_1', activation='relu'))\n",
    "\n",
    "model.add(tf.keras.layers.MaxPool2D(\n",
    "    pool_size=(2, 2), name='pool_1'))\n",
    "    \n",
    "model.add(tf.keras.layers.Conv2D(\n",
    "    filters=64, kernel_size=(5, 5),\n",
    "    strides=(1, 1), padding='same',\n",
    "    name='conv_2', activation='relu'))\n",
    "\n",
    "model.add(tf.keras.layers.MaxPool2D(pool_size=(2, 2), name='pool_2'))"
   ]
  },
  {
   "cell_type": "code",
   "execution_count": 31,
   "metadata": {},
   "outputs": [
    {
     "data": {
      "text/plain": [
       "TensorShape([16, 7, 7, 64])"
      ]
     },
     "execution_count": 31,
     "metadata": {},
     "output_type": "execute_result"
    }
   ],
   "source": [
    "model.compute_output_shape(input_shape=(16, 28, 28, 1))"
   ]
  },
  {
   "cell_type": "markdown",
   "metadata": {},
   "source": [
    "튜플로 지정한 입력 크리에 대해 `compute_output_shape` 메서드가 계산한 출려 크기는 (16, 7, 7, 64)이다.  \n",
    "이는 64개의 채널이 있고 높이와 너비가 7X7인 특성 맵이다. 첫 번째 차원은 배치 차원으로 여기서는 임의로 16이라고 정했다. "
   ]
  },
  {
   "cell_type": "markdown",
   "metadata": {},
   "source": [
    "다음에 추가할 층은 밀집 (또는 완전 연결)층이다. 합성곱 층과 풀링 층 위에 분류기를 구현하기 위해서 필요하다.  \n",
    "이 층의 입력은 랭크 2, 즉 [배치 크기 X 입력 유닛 개수]이어야 한다. 따라서 앞 층의 출력을 밀집 층에 맞게 펼쳐야 한다. "
   ]
  },
  {
   "cell_type": "code",
   "execution_count": 32,
   "metadata": {},
   "outputs": [
    {
     "data": {
      "text/plain": [
       "TensorShape([16, 3136])"
      ]
     },
     "execution_count": 32,
     "metadata": {},
     "output_type": "execute_result"
    }
   ],
   "source": [
    "model.add(tf.keras.layers.Flatten())\n",
    "    \n",
    "model.compute_output_shape(input_shape=(16, 28, 28, 1))"
   ]
  },
  {
   "cell_type": "markdown",
   "metadata": {},
   "source": [
    "그다음 두 개의 밀집 층을 놓고 그 사이에 드롭아웃 층을 추가한다. "
   ]
  },
  {
   "cell_type": "code",
   "execution_count": 33,
   "metadata": {},
   "outputs": [],
   "source": [
    "model.add(tf.keras.layers.Dense(\n",
    "    units=1024, name='fc_1', \n",
    "    activation='relu'))\n",
    "\n",
    "model.add(tf.keras.layers.Dropout(\n",
    "    rate=0.5))\n",
    "    \n",
    "model.add(tf.keras.layers.Dense(\n",
    "    units=10, name='fc_2',\n",
    "    activation='softmax'))"
   ]
  },
  {
   "cell_type": "markdown",
   "metadata": {},
   "source": [
    "이름이 `'fc_2'`인 마지막 완전 연결 층은 MNIST 데이터셋의 클래스 레이블 열 개에 대응하는 열 개의 출력 유닛을 가진다.  \n",
    "또한, 입력 샘플의 클래스 소속 활률을 얻기 위해 소프트맥스 활성화 함수를 사용한다. 따라서 각 샘플의 확률의 합은 1이 된다. "
   ]
  },
  {
   "cell_type": "code",
   "execution_count": 34,
   "metadata": {},
   "outputs": [
    {
     "data": {
      "text/plain": [
       "TensorShape([16, 10])"
      ]
     },
     "execution_count": 34,
     "metadata": {},
     "output_type": "execute_result"
    }
   ],
   "source": [
    "tf.random.set_seed(1)\n",
    "model.build(input_shape=(None, 28, 28, 1))\n",
    "\n",
    "model.compute_output_shape(input_shape=(16, 28, 28, 1))"
   ]
  },
  {
   "cell_type": "code",
   "execution_count": 35,
   "metadata": {},
   "outputs": [
    {
     "name": "stdout",
     "output_type": "stream",
     "text": [
      "Model: \"sequential\"\n",
      "_________________________________________________________________\n",
      "Layer (type)                 Output Shape              Param #   \n",
      "=================================================================\n",
      "conv_1 (Conv2D)              (None, 28, 28, 32)        832       \n",
      "_________________________________________________________________\n",
      "pool_1 (MaxPooling2D)        (None, 14, 14, 32)        0         \n",
      "_________________________________________________________________\n",
      "conv_2 (Conv2D)              (None, 14, 14, 64)        51264     \n",
      "_________________________________________________________________\n",
      "pool_2 (MaxPooling2D)        (None, 7, 7, 64)          0         \n",
      "_________________________________________________________________\n",
      "flatten (Flatten)            (None, 3136)              0         \n",
      "_________________________________________________________________\n",
      "fc_1 (Dense)                 (None, 1024)              3212288   \n",
      "_________________________________________________________________\n",
      "dropout (Dropout)            (None, 1024)              0         \n",
      "_________________________________________________________________\n",
      "fc_2 (Dense)                 (None, 10)                10250     \n",
      "=================================================================\n",
      "Total params: 3,274,634\n",
      "Trainable params: 3,274,634\n",
      "Non-trainable params: 0\n",
      "_________________________________________________________________\n"
     ]
    }
   ],
   "source": [
    "model.summary()"
   ]
  },
  {
   "cell_type": "code",
   "execution_count": 36,
   "metadata": {},
   "outputs": [
    {
     "name": "stdout",
     "output_type": "stream",
     "text": [
      "Epoch 1/20\n"
     ]
    },
    {
     "name": "stderr",
     "output_type": "stream",
     "text": [
      "2022-11-24 12:16:56.126414: I tensorflow/compiler/mlir/mlir_graph_optimization_pass.cc:176] None of the MLIR Optimization Passes are enabled (registered 2)\n",
      "2022-11-24 12:16:56.129115: W tensorflow/core/platform/profile_utils/cpu_utils.cc:128] Failed to get CPU frequency: 0 Hz\n",
      "2022-11-24 12:16:56.129640: I tensorflow/core/grappler/optimizers/custom_graph_optimizer_registry.cc:112] Plugin optimizer for device_type GPU is enabled.\n"
     ]
    },
    {
     "name": "stdout",
     "output_type": "stream",
     "text": [
      "782/782 [==============================] - ETA: 0s - loss: 0.1356 - accuracy: 0.9578"
     ]
    },
    {
     "name": "stderr",
     "output_type": "stream",
     "text": [
      "2022-11-24 12:17:08.754289: I tensorflow/core/grappler/optimizers/custom_graph_optimizer_registry.cc:112] Plugin optimizer for device_type GPU is enabled.\n"
     ]
    },
    {
     "name": "stdout",
     "output_type": "stream",
     "text": [
      "782/782 [==============================] - 14s 15ms/step - loss: 0.1356 - accuracy: 0.9578 - val_loss: 0.0577 - val_accuracy: 0.9828\n",
      "Epoch 2/20\n",
      "782/782 [==============================] - 11s 13ms/step - loss: 0.0303 - accuracy: 0.9901 - val_loss: 0.0438 - val_accuracy: 0.9881\n",
      "Epoch 3/20\n",
      "782/782 [==============================] - 12s 15ms/step - loss: 0.0165 - accuracy: 0.9949 - val_loss: 0.0514 - val_accuracy: 0.9866\n",
      "Epoch 4/20\n",
      "782/782 [==============================] - 12s 15ms/step - loss: 0.0115 - accuracy: 0.9964 - val_loss: 0.0588 - val_accuracy: 0.9869\n",
      "Epoch 5/20\n",
      "782/782 [==============================] - 12s 15ms/step - loss: 0.0125 - accuracy: 0.9958 - val_loss: 0.0567 - val_accuracy: 0.9861\n",
      "Epoch 6/20\n",
      "782/782 [==============================] - 11s 14ms/step - loss: 0.0086 - accuracy: 0.9971 - val_loss: 0.0687 - val_accuracy: 0.9871\n",
      "Epoch 7/20\n",
      "782/782 [==============================] - 11s 14ms/step - loss: 0.0064 - accuracy: 0.9980 - val_loss: 0.0586 - val_accuracy: 0.9887\n",
      "Epoch 8/20\n",
      "782/782 [==============================] - 11s 14ms/step - loss: 0.0064 - accuracy: 0.9981 - val_loss: 0.0540 - val_accuracy: 0.9885\n",
      "Epoch 9/20\n",
      "782/782 [==============================] - 11s 14ms/step - loss: 0.0069 - accuracy: 0.9979 - val_loss: 0.0578 - val_accuracy: 0.9900\n",
      "Epoch 10/20\n",
      "782/782 [==============================] - 11s 14ms/step - loss: 0.0049 - accuracy: 0.9986 - val_loss: 0.0584 - val_accuracy: 0.9906\n",
      "Epoch 11/20\n",
      "782/782 [==============================] - 11s 14ms/step - loss: 0.0053 - accuracy: 0.9984 - val_loss: 0.0916 - val_accuracy: 0.9884\n",
      "Epoch 12/20\n",
      "782/782 [==============================] - 11s 14ms/step - loss: 0.0043 - accuracy: 0.9986 - val_loss: 0.0678 - val_accuracy: 0.9907\n",
      "Epoch 13/20\n",
      "782/782 [==============================] - 12s 15ms/step - loss: 0.0044 - accuracy: 0.9987 - val_loss: 0.0973 - val_accuracy: 0.9875\n",
      "Epoch 14/20\n",
      "782/782 [==============================] - 11s 14ms/step - loss: 0.0038 - accuracy: 0.9990 - val_loss: 0.0796 - val_accuracy: 0.9886\n",
      "Epoch 15/20\n",
      "782/782 [==============================] - 13s 16ms/step - loss: 0.0059 - accuracy: 0.9985 - val_loss: 0.0776 - val_accuracy: 0.9896\n",
      "Epoch 16/20\n",
      "782/782 [==============================] - 12s 15ms/step - loss: 0.0054 - accuracy: 0.9986 - val_loss: 0.0776 - val_accuracy: 0.9892\n",
      "Epoch 17/20\n",
      "782/782 [==============================] - 12s 15ms/step - loss: 0.0033 - accuracy: 0.9990 - val_loss: 0.0859 - val_accuracy: 0.9897\n",
      "Epoch 18/20\n",
      "782/782 [==============================] - 12s 15ms/step - loss: 0.0067 - accuracy: 0.9984 - val_loss: 0.0842 - val_accuracy: 0.9874\n",
      "Epoch 19/20\n",
      "782/782 [==============================] - 11s 14ms/step - loss: 0.0012 - accuracy: 0.9996 - val_loss: 0.0857 - val_accuracy: 0.9908\n",
      "Epoch 20/20\n",
      "782/782 [==============================] - 11s 14ms/step - loss: 1.6184e-04 - accuracy: 0.9999 - val_loss: 0.0924 - val_accuracy: 0.9906\n"
     ]
    }
   ],
   "source": [
    "model.compile(optimizer=tf.keras.optimizers.Adam(),\n",
    "              loss=tf.keras.losses.SparseCategoricalCrossentropy(),\n",
    "              metrics=['accuracy']) # same as `tf.keras.metrics.SparseCategoricalAccuracy(name='accuracy')`\n",
    "\n",
    "history = model.fit(mnist_train, epochs=NUM_EPOCHS, \n",
    "                    validation_data=mnist_valid, \n",
    "                    shuffle=True)"
   ]
  },
  {
   "cell_type": "code",
   "execution_count": 37,
   "metadata": {},
   "outputs": [
    {
     "data": {
      "image/png": "[encoded data removed]",
      "text/plain": [
       "<Figure size 1200x400 with 2 Axes>"
      ]
     },
     "metadata": {},
     "output_type": "display_data"
    }
   ],
   "source": [
    "import matplotlib.pyplot as plt\n",
    "hist = history.history\n",
    "x_arr = np.arange(len(hist['loss'])) + 1\n",
    "\n",
    "fig = plt.figure(figsize=(12, 4))\n",
    "ax = fig.add_subplot(1, 2, 1)\n",
    "ax.plot(x_arr, hist['loss'], '-o', label='Train loss')\n",
    "ax.plot(x_arr, hist['val_loss'], '--<', label='Validation loss')\n",
    "ax.set_xlabel('Epoch', size=15)\n",
    "ax.set_ylabel('Loss', size=15)\n",
    "ax.legend(fontsize=15)\n",
    "ax = fig.add_subplot(1, 2, 2)\n",
    "ax.plot(x_arr, hist['accuracy'], '-o', label='Train acc.')\n",
    "ax.plot(x_arr, hist['val_accuracy'], '--<', label='Validation acc.')\n",
    "ax.legend(fontsize=15)\n",
    "ax.set_xlabel('Epoch', size=15)\n",
    "ax.set_ylabel('Accuracy', size=15)\n",
    "\n",
    "#plt.savefig('images/15_12.png', dpi=300)\n",
    "plt.show()"
   ]
  },
  {
   "cell_type": "code",
   "execution_count": 38,
   "metadata": {},
   "outputs": [
    {
     "name": "stdout",
     "output_type": "stream",
     "text": [
      "500/500 [==============================] - 3s 6ms/step - loss: 0.0510 - accuracy: 0.9925\n",
      "\n",
      "테스트 정확도 99.25%\n"
     ]
    }
   ],
   "source": [
    "test_results = model.evaluate(mnist_test.batch(20))\n",
    "print('\\n테스트 정확도 {:.2f}%'.format(test_results[1]*100))"
   ]
  },
  {
   "cell_type": "markdown",
   "metadata": {},
   "source": [
    "이 CNN 모델은 99.25% 정확도를 달성했다. 14장에서 DNNClassifier 추정기를 사용했을 때 약 90% 정확도를 얻었다.  \n",
    "\n",
    "마지막으로 클래스 소속 활률 형태로 예측 결과를 얻은 후 `tf.argmax` 함수로 확률이 최대인 원소를 찾아 예측 레이블로 바꿀 수 있다. "
   ]
  },
  {
   "cell_type": "code",
   "execution_count": 39,
   "metadata": {},
   "outputs": [
    {
     "name": "stdout",
     "output_type": "stream",
     "text": [
      "TensorShape([12, 10])\n",
      "tf.Tensor([2 0 4 8 7 6 0 6 3 1 8 0], shape=(12,), dtype=int64)\n"
     ]
    },
    {
     "data": {
      "image/png": "[encoded data removed]",
      "text/plain": [
       "<Figure size 1200x400 with 12 Axes>"
      ]
     },
     "metadata": {},
     "output_type": "display_data"
    }
   ],
   "source": [
    "batch_test = next(iter(mnist_test.batch(12)))\n",
    "\n",
    "preds = model(batch_test[0])\n",
    "\n",
    "tf.print(preds.shape)\n",
    "preds = tf.argmax(preds, axis=1)\n",
    "print(preds)\n",
    "\n",
    "fig = plt.figure(figsize=(12, 4))\n",
    "for i in range(12):\n",
    "    ax = fig.add_subplot(2, 6, i+1)\n",
    "    ax.set_xticks([]); ax.set_yticks([])\n",
    "    img = batch_test[0][i, :, :, 0]\n",
    "    ax.imshow(img, cmap='gray_r')\n",
    "    ax.text(0.9, 0.1, '{}'.format(preds[i]), \n",
    "            size=15, color='blue',\n",
    "            horizontalalignment='center',\n",
    "            verticalalignment='center', \n",
    "            transform=ax.transAxes)\n",
    "    \n",
    "#plt.savefig('images/15_13.png', dpi=300)\n",
    "plt.show()"
   ]
  },
  {
   "cell_type": "code",
   "execution_count": 40,
   "metadata": {},
   "outputs": [],
   "source": [
    "import os\n",
    "\n",
    "if not os.path.exists('models'):\n",
    "    os.mkdir('models')\n",
    "\n",
    "\n",
    "model.save('models/mnist-cnn.h5')"
   ]
  }
 ],
 "metadata": {
  "kernelspec": {
   "display_name": "Python 3.8.14 ('hg')",
   "language": "python",
   "name": "python3"
  },
  "language_info": {
   "codemirror_mode": {
    "name": "ipython",
    "version": 3
   },
   "file_extension": ".py",
   "mimetype": "text/x-python",
   "name": "python",
   "nbconvert_exporter": "python",
   "pygments_lexer": "ipython3",
   "version": "3.8.14"
  },
  "orig_nbformat": 4,
  "vscode": {
   "interpreter": {
    "hash": "a89b10a71bbbd74c2679eb33295672f2024448b5b6f1a9d866f7fe38b5792374"
   }
  }
 },
 "nbformat": 4,
 "nbformat_minor": 2
}
