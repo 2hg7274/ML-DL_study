{
 "cells": [
  {
   "cell_type": "markdown",
   "metadata": {},
   "source": [
    "# 6장 - 모델 평가와 하이퍼파라미터 튜닝의 모범 사례"
   ]
  },
  {
   "cell_type": "code",
   "execution_count": 1,
   "metadata": {},
   "outputs": [],
   "source": [
    "from IPython.display import Image"
   ]
  },
  {
   "cell_type": "markdown",
   "metadata": {},
   "source": [
    "# 파이프라인을 사용한 효율적인 워크플로"
   ]
  },
  {
   "cell_type": "markdown",
   "metadata": {},
   "source": [
    "4장에서는 특성의 스케일을 조정하기 위해 표준화를 적용했고  \n",
    "5장에서는 데이터 압축을 위해 주성분 분석을 적용했다.  \n",
    "이때 테스트 데이터셋에 있는 별도의 샘플처럼 새로운 데이터의 스케일을 조정하고 압축하기 위해 훈련 데이터셋에서 학습한 파라미터를 재사용해야 한다고 배웠다.  \n",
    "이를 위해 아주 유용하게 사용할 수 있는 사이킷런의 `Pipeline` 클래스를 배워보자."
   ]
  },
  {
   "cell_type": "markdown",
   "metadata": {},
   "source": [
    "## 위스콘신 유방암 데이터셋"
   ]
  },
  {
   "cell_type": "markdown",
   "metadata": {},
   "source": [
    "이 장에서 위스콘신 유방암 데이터셋을 사용.  \n",
    "여기에는 악성과 양성인 조양 세포 샘플 569개가 포함되어 있다.  \n",
    "데이터셋의 첫 두 열에는 샘플의 고유 ID 번호와 진단 결과(M=악성, B=양성)rk emfdj dlTek.  \n",
    "3번째에서 32번째까지 열에는 세포 핵의 디지털 이미지에서 계산된 30개의 실수 값 특성이 담겨 있다.  \n",
    "이 특성을 사용하여 종양이 악성인지 양성인지 예측하는 모델을 만들 것이다. "
   ]
  },
  {
   "cell_type": "code",
   "execution_count": 2,
   "metadata": {},
   "outputs": [
    {
     "data": {
      "text/html": [
       "<div>\n",
       "<style scoped>\n",
       "    .dataframe tbody tr th:only-of-type {\n",
       "        vertical-align: middle;\n",
       "    }\n",
       "\n",
       "    .dataframe tbody tr th {\n",
       "        vertical-align: top;\n",
       "    }\n",
       "\n",
       "    .dataframe thead th {\n",
       "        text-align: right;\n",
       "    }\n",
       "</style>\n",
       "<table border=\"1\" class=\"dataframe\">\n",
       "  <thead>\n",
       "    <tr style=\"text-align: right;\">\n",
       "      <th></th>\n",
       "      <th>0</th>\n",
       "      <th>1</th>\n",
       "      <th>2</th>\n",
       "      <th>3</th>\n",
       "      <th>4</th>\n",
       "      <th>5</th>\n",
       "      <th>6</th>\n",
       "      <th>7</th>\n",
       "      <th>8</th>\n",
       "      <th>9</th>\n",
       "      <th>...</th>\n",
       "      <th>22</th>\n",
       "      <th>23</th>\n",
       "      <th>24</th>\n",
       "      <th>25</th>\n",
       "      <th>26</th>\n",
       "      <th>27</th>\n",
       "      <th>28</th>\n",
       "      <th>29</th>\n",
       "      <th>30</th>\n",
       "      <th>31</th>\n",
       "    </tr>\n",
       "  </thead>\n",
       "  <tbody>\n",
       "    <tr>\n",
       "      <th>0</th>\n",
       "      <td>842302</td>\n",
       "      <td>M</td>\n",
       "      <td>17.99</td>\n",
       "      <td>10.38</td>\n",
       "      <td>122.80</td>\n",
       "      <td>1001.0</td>\n",
       "      <td>0.11840</td>\n",
       "      <td>0.27760</td>\n",
       "      <td>0.3001</td>\n",
       "      <td>0.14710</td>\n",
       "      <td>...</td>\n",
       "      <td>25.38</td>\n",
       "      <td>17.33</td>\n",
       "      <td>184.60</td>\n",
       "      <td>2019.0</td>\n",
       "      <td>0.1622</td>\n",
       "      <td>0.6656</td>\n",
       "      <td>0.7119</td>\n",
       "      <td>0.2654</td>\n",
       "      <td>0.4601</td>\n",
       "      <td>0.11890</td>\n",
       "    </tr>\n",
       "    <tr>\n",
       "      <th>1</th>\n",
       "      <td>842517</td>\n",
       "      <td>M</td>\n",
       "      <td>20.57</td>\n",
       "      <td>17.77</td>\n",
       "      <td>132.90</td>\n",
       "      <td>1326.0</td>\n",
       "      <td>0.08474</td>\n",
       "      <td>0.07864</td>\n",
       "      <td>0.0869</td>\n",
       "      <td>0.07017</td>\n",
       "      <td>...</td>\n",
       "      <td>24.99</td>\n",
       "      <td>23.41</td>\n",
       "      <td>158.80</td>\n",
       "      <td>1956.0</td>\n",
       "      <td>0.1238</td>\n",
       "      <td>0.1866</td>\n",
       "      <td>0.2416</td>\n",
       "      <td>0.1860</td>\n",
       "      <td>0.2750</td>\n",
       "      <td>0.08902</td>\n",
       "    </tr>\n",
       "    <tr>\n",
       "      <th>2</th>\n",
       "      <td>84300903</td>\n",
       "      <td>M</td>\n",
       "      <td>19.69</td>\n",
       "      <td>21.25</td>\n",
       "      <td>130.00</td>\n",
       "      <td>1203.0</td>\n",
       "      <td>0.10960</td>\n",
       "      <td>0.15990</td>\n",
       "      <td>0.1974</td>\n",
       "      <td>0.12790</td>\n",
       "      <td>...</td>\n",
       "      <td>23.57</td>\n",
       "      <td>25.53</td>\n",
       "      <td>152.50</td>\n",
       "      <td>1709.0</td>\n",
       "      <td>0.1444</td>\n",
       "      <td>0.4245</td>\n",
       "      <td>0.4504</td>\n",
       "      <td>0.2430</td>\n",
       "      <td>0.3613</td>\n",
       "      <td>0.08758</td>\n",
       "    </tr>\n",
       "    <tr>\n",
       "      <th>3</th>\n",
       "      <td>84348301</td>\n",
       "      <td>M</td>\n",
       "      <td>11.42</td>\n",
       "      <td>20.38</td>\n",
       "      <td>77.58</td>\n",
       "      <td>386.1</td>\n",
       "      <td>0.14250</td>\n",
       "      <td>0.28390</td>\n",
       "      <td>0.2414</td>\n",
       "      <td>0.10520</td>\n",
       "      <td>...</td>\n",
       "      <td>14.91</td>\n",
       "      <td>26.50</td>\n",
       "      <td>98.87</td>\n",
       "      <td>567.7</td>\n",
       "      <td>0.2098</td>\n",
       "      <td>0.8663</td>\n",
       "      <td>0.6869</td>\n",
       "      <td>0.2575</td>\n",
       "      <td>0.6638</td>\n",
       "      <td>0.17300</td>\n",
       "    </tr>\n",
       "    <tr>\n",
       "      <th>4</th>\n",
       "      <td>84358402</td>\n",
       "      <td>M</td>\n",
       "      <td>20.29</td>\n",
       "      <td>14.34</td>\n",
       "      <td>135.10</td>\n",
       "      <td>1297.0</td>\n",
       "      <td>0.10030</td>\n",
       "      <td>0.13280</td>\n",
       "      <td>0.1980</td>\n",
       "      <td>0.10430</td>\n",
       "      <td>...</td>\n",
       "      <td>22.54</td>\n",
       "      <td>16.67</td>\n",
       "      <td>152.20</td>\n",
       "      <td>1575.0</td>\n",
       "      <td>0.1374</td>\n",
       "      <td>0.2050</td>\n",
       "      <td>0.4000</td>\n",
       "      <td>0.1625</td>\n",
       "      <td>0.2364</td>\n",
       "      <td>0.07678</td>\n",
       "    </tr>\n",
       "  </tbody>\n",
       "</table>\n",
       "<p>5 rows × 32 columns</p>\n",
       "</div>"
      ],
      "text/plain": [
       "         0  1      2      3       4       5        6        7       8   \\\n",
       "0    842302  M  17.99  10.38  122.80  1001.0  0.11840  0.27760  0.3001   \n",
       "1    842517  M  20.57  17.77  132.90  1326.0  0.08474  0.07864  0.0869   \n",
       "2  84300903  M  19.69  21.25  130.00  1203.0  0.10960  0.15990  0.1974   \n",
       "3  84348301  M  11.42  20.38   77.58   386.1  0.14250  0.28390  0.2414   \n",
       "4  84358402  M  20.29  14.34  135.10  1297.0  0.10030  0.13280  0.1980   \n",
       "\n",
       "        9   ...     22     23      24      25      26      27      28      29  \\\n",
       "0  0.14710  ...  25.38  17.33  184.60  2019.0  0.1622  0.6656  0.7119  0.2654   \n",
       "1  0.07017  ...  24.99  23.41  158.80  1956.0  0.1238  0.1866  0.2416  0.1860   \n",
       "2  0.12790  ...  23.57  25.53  152.50  1709.0  0.1444  0.4245  0.4504  0.2430   \n",
       "3  0.10520  ...  14.91  26.50   98.87   567.7  0.2098  0.8663  0.6869  0.2575   \n",
       "4  0.10430  ...  22.54  16.67  152.20  1575.0  0.1374  0.2050  0.4000  0.1625   \n",
       "\n",
       "       30       31  \n",
       "0  0.4601  0.11890  \n",
       "1  0.2750  0.08902  \n",
       "2  0.3613  0.08758  \n",
       "3  0.6638  0.17300  \n",
       "4  0.2364  0.07678  \n",
       "\n",
       "[5 rows x 32 columns]"
      ]
     },
     "execution_count": 2,
     "metadata": {},
     "output_type": "execute_result"
    }
   ],
   "source": [
    "# 1. pandas를 사용하여 UCI 서버에서 직접 데이터셋을 읽어 들인다.\n",
    "import pandas as pd\n",
    "\n",
    "df = pd.read_csv('https://archive.ics.uci.edu/ml/'\n",
    "                 'machine-learning-databases'\n",
    "                 '/breast-cancer-wisconsin/wdbc.data', header=None)\n",
    "\n",
    "# UCI 머신 러닝 저장소에서 유방암 데이터셋을 다운로드할 수 없을 때\n",
    "# 다음 주석을 해제하고 로컬 경로에서 데이터셋을 적재하세요:\n",
    "\n",
    "# df = pd.read_csv('wdbc.data', header=None)\n",
    "\n",
    "df.head()"
   ]
  },
  {
   "cell_type": "code",
   "execution_count": 3,
   "metadata": {},
   "outputs": [
    {
     "data": {
      "text/plain": [
       "(569, 32)"
      ]
     },
     "execution_count": 3,
     "metadata": {},
     "output_type": "execute_result"
    }
   ],
   "source": [
    "df.shape"
   ]
  },
  {
   "cell_type": "code",
   "execution_count": 4,
   "metadata": {},
   "outputs": [
    {
     "data": {
      "text/plain": [
       "array(['B', 'M'], dtype=object)"
      ]
     },
     "execution_count": 4,
     "metadata": {},
     "output_type": "execute_result"
    }
   ],
   "source": [
    "# 2. 그 다음, 30개의 특성을 넘파이 배열 X에 할당한다. \n",
    "# LabelEncoder 객체를 사용하여 클래스 레이블을 원본 문자열 표현('M'과 'B')에서 정수로 변환한다. \n",
    "from sklearn.preprocessing import LabelEncoder\n",
    "\n",
    "X = df.loc[:, 2:].values\n",
    "y = df.loc[:, 1].values\n",
    "le = LabelEncoder()\n",
    "y = le.fit_transform(y)\n",
    "le.classes_\n"
   ]
  },
  {
   "cell_type": "markdown",
   "metadata": {},
   "source": [
    "클래스 레이블(진단 결과)을 배열 y에 인코딩하면 악성(malignant) 종양은 클래스 1로 표현되고 양성(benign) 종양은 클래스 0으로 각각 표현된다. "
   ]
  },
  {
   "cell_type": "code",
   "execution_count": 5,
   "metadata": {},
   "outputs": [
    {
     "data": {
      "text/plain": [
       "array([1, 0])"
      ]
     },
     "execution_count": 5,
     "metadata": {},
     "output_type": "execute_result"
    }
   ],
   "source": [
    "le.transform(['M', 'B'])"
   ]
  },
  {
   "cell_type": "code",
   "execution_count": 6,
   "metadata": {},
   "outputs": [],
   "source": [
    "# 데이터셋을 훈련 데이터셋(전체 데이터의 80%)과 별도의 테스트 데이터셋(전체 데이터의 20%)으로 나눈다.\n",
    "from sklearn.model_selection import train_test_split\n",
    "\n",
    "X_train, X_test, y_train, y_test = \\\n",
    "    train_test_split(X, y, \n",
    "                     test_size=0.20,\n",
    "                     stratify=y,\n",
    "                     random_state=1)"
   ]
  },
  {
   "cell_type": "markdown",
   "metadata": {},
   "source": [
    "## 파이프라인으로 변환기와 추정기 연결"
   ]
  },
  {
   "cell_type": "markdown",
   "metadata": {},
   "source": [
    "많은 머신 러닝 알고리즘이 최적의 성능을 위해 입력 특성이 같은 스케일을 가져야 한다.  \n",
    "위스콘신 유방암 데이터셋의 특성은 다양한 스케일로 측정되었기 때문에 로지스틱 회귀 같은 선형 분류기에 주입하기 전에 특성을 표준화해야 한다.  \n",
    "여기서는 주성분 분석(PCA)을 통해 초기 30차원에서 좀 더 낮은 2차원 부분 공간으로 데이터를 압축한다고 가정.  \n",
    "\n",
    "훈련 데이터셋과 테스트 데이터셋을 각각 학습하고 변환하는 단계를 구성하는 대신 StandardScaler, PCA, LogisticRegression 객체를 하나의 파이프라인으로 연결할 수 있다. "
   ]
  },
  {
   "cell_type": "code",
   "execution_count": 7,
   "metadata": {},
   "outputs": [
    {
     "name": "stdout",
     "output_type": "stream",
     "text": [
      "테스트 정확도: 0.956\n"
     ]
    }
   ],
   "source": [
    "from sklearn.preprocessing import StandardScaler\n",
    "from sklearn.decomposition import PCA\n",
    "from sklearn.linear_model import LogisticRegression\n",
    "from sklearn.pipeline import make_pipeline\n",
    "\n",
    "pipe_lr = make_pipeline(StandardScaler(),\n",
    "                        PCA(n_components=2),\n",
    "                        LogisticRegression(random_state=1))\n",
    "\n",
    "pipe_lr.fit(X_train, y_train)\n",
    "y_pred = pipe_lr.predict(X_test)\n",
    "print('테스트 정확도: %.3f' % pipe_lr.score(X_test, y_test))"
   ]
  },
  {
   "cell_type": "markdown",
   "metadata": {},
   "source": [
    "`make_pipeline` 함수는 여러 개의 사이킷런 변환기(입력에 대해 `fit` 메서드와 `transform` 메서드를 지원하는 객체)와 그 뒤에 `fit` 메서드와 `predict` 메서드를 구현한 사이킷런 추정기를 연결할 수 있다. "
   ]
  },
  {
   "cell_type": "code",
   "execution_count": 8,
   "metadata": {},
   "outputs": [
    {
     "data": {
      "text/html": [
       "<style>#sk-e9dd7da8-4689-4119-a0f0-93ae4a33f528 {color: black;background-color: white;}#sk-e9dd7da8-4689-4119-a0f0-93ae4a33f528 pre{padding: 0;}#sk-e9dd7da8-4689-4119-a0f0-93ae4a33f528 div.sk-toggleable {background-color: white;}#sk-e9dd7da8-4689-4119-a0f0-93ae4a33f528 label.sk-toggleable__label {cursor: pointer;display: block;width: 100%;margin-bottom: 0;padding: 0.3em;box-sizing: border-box;text-align: center;}#sk-e9dd7da8-4689-4119-a0f0-93ae4a33f528 label.sk-toggleable__label-arrow:before {content: \"▸\";float: left;margin-right: 0.25em;color: #696969;}#sk-e9dd7da8-4689-4119-a0f0-93ae4a33f528 label.sk-toggleable__label-arrow:hover:before {color: black;}#sk-e9dd7da8-4689-4119-a0f0-93ae4a33f528 div.sk-estimator:hover label.sk-toggleable__label-arrow:before {color: black;}#sk-e9dd7da8-4689-4119-a0f0-93ae4a33f528 div.sk-toggleable__content {max-height: 0;max-width: 0;overflow: hidden;text-align: left;background-color: #f0f8ff;}#sk-e9dd7da8-4689-4119-a0f0-93ae4a33f528 div.sk-toggleable__content pre {margin: 0.2em;color: black;border-radius: 0.25em;background-color: #f0f8ff;}#sk-e9dd7da8-4689-4119-a0f0-93ae4a33f528 input.sk-toggleable__control:checked~div.sk-toggleable__content {max-height: 200px;max-width: 100%;overflow: auto;}#sk-e9dd7da8-4689-4119-a0f0-93ae4a33f528 input.sk-toggleable__control:checked~label.sk-toggleable__label-arrow:before {content: \"▾\";}#sk-e9dd7da8-4689-4119-a0f0-93ae4a33f528 div.sk-estimator input.sk-toggleable__control:checked~label.sk-toggleable__label {background-color: #d4ebff;}#sk-e9dd7da8-4689-4119-a0f0-93ae4a33f528 div.sk-label input.sk-toggleable__control:checked~label.sk-toggleable__label {background-color: #d4ebff;}#sk-e9dd7da8-4689-4119-a0f0-93ae4a33f528 input.sk-hidden--visually {border: 0;clip: rect(1px 1px 1px 1px);clip: rect(1px, 1px, 1px, 1px);height: 1px;margin: -1px;overflow: hidden;padding: 0;position: absolute;width: 1px;}#sk-e9dd7da8-4689-4119-a0f0-93ae4a33f528 div.sk-estimator {font-family: monospace;background-color: #f0f8ff;border: 1px dotted black;border-radius: 0.25em;box-sizing: border-box;margin-bottom: 0.5em;}#sk-e9dd7da8-4689-4119-a0f0-93ae4a33f528 div.sk-estimator:hover {background-color: #d4ebff;}#sk-e9dd7da8-4689-4119-a0f0-93ae4a33f528 div.sk-parallel-item::after {content: \"\";width: 100%;border-bottom: 1px solid gray;flex-grow: 1;}#sk-e9dd7da8-4689-4119-a0f0-93ae4a33f528 div.sk-label:hover label.sk-toggleable__label {background-color: #d4ebff;}#sk-e9dd7da8-4689-4119-a0f0-93ae4a33f528 div.sk-serial::before {content: \"\";position: absolute;border-left: 1px solid gray;box-sizing: border-box;top: 2em;bottom: 0;left: 50%;}#sk-e9dd7da8-4689-4119-a0f0-93ae4a33f528 div.sk-serial {display: flex;flex-direction: column;align-items: center;background-color: white;padding-right: 0.2em;padding-left: 0.2em;}#sk-e9dd7da8-4689-4119-a0f0-93ae4a33f528 div.sk-item {z-index: 1;}#sk-e9dd7da8-4689-4119-a0f0-93ae4a33f528 div.sk-parallel {display: flex;align-items: stretch;justify-content: center;background-color: white;}#sk-e9dd7da8-4689-4119-a0f0-93ae4a33f528 div.sk-parallel::before {content: \"\";position: absolute;border-left: 1px solid gray;box-sizing: border-box;top: 2em;bottom: 0;left: 50%;}#sk-e9dd7da8-4689-4119-a0f0-93ae4a33f528 div.sk-parallel-item {display: flex;flex-direction: column;position: relative;background-color: white;}#sk-e9dd7da8-4689-4119-a0f0-93ae4a33f528 div.sk-parallel-item:first-child::after {align-self: flex-end;width: 50%;}#sk-e9dd7da8-4689-4119-a0f0-93ae4a33f528 div.sk-parallel-item:last-child::after {align-self: flex-start;width: 50%;}#sk-e9dd7da8-4689-4119-a0f0-93ae4a33f528 div.sk-parallel-item:only-child::after {width: 0;}#sk-e9dd7da8-4689-4119-a0f0-93ae4a33f528 div.sk-dashed-wrapped {border: 1px dashed gray;margin: 0 0.4em 0.5em 0.4em;box-sizing: border-box;padding-bottom: 0.4em;background-color: white;position: relative;}#sk-e9dd7da8-4689-4119-a0f0-93ae4a33f528 div.sk-label label {font-family: monospace;font-weight: bold;background-color: white;display: inline-block;line-height: 1.2em;}#sk-e9dd7da8-4689-4119-a0f0-93ae4a33f528 div.sk-label-container {position: relative;z-index: 2;text-align: center;}#sk-e9dd7da8-4689-4119-a0f0-93ae4a33f528 div.sk-container {/* jupyter's `normalize.less` sets `[hidden] { display: none; }` but bootstrap.min.css set `[hidden] { display: none !important; }` so we also need the `!important` here to be able to override the default hidden behavior on the sphinx rendered scikit-learn.org. See: https://github.com/scikit-learn/scikit-learn/issues/21755 */display: inline-block !important;position: relative;}#sk-e9dd7da8-4689-4119-a0f0-93ae4a33f528 div.sk-text-repr-fallback {display: none;}</style><div id=\"sk-e9dd7da8-4689-4119-a0f0-93ae4a33f528\" class=\"sk-top-container\"><div class=\"sk-text-repr-fallback\"><pre>Pipeline(steps=[(&#x27;standardscaler&#x27;, StandardScaler()),\n",
       "                (&#x27;pca&#x27;, PCA(n_components=2)),\n",
       "                (&#x27;logisticregression&#x27;, LogisticRegression(random_state=1))])</pre><b>Please rerun this cell to show the HTML repr or trust the notebook.</b></div><div class=\"sk-container\" hidden><div class=\"sk-item sk-dashed-wrapped\"><div class=\"sk-label-container\"><div class=\"sk-label sk-toggleable\"><input class=\"sk-toggleable__control sk-hidden--visually\" id=\"ba7f5c54-fc72-46d3-9d30-d5bea4798770\" type=\"checkbox\" ><label for=\"ba7f5c54-fc72-46d3-9d30-d5bea4798770\" class=\"sk-toggleable__label sk-toggleable__label-arrow\">Pipeline</label><div class=\"sk-toggleable__content\"><pre>Pipeline(steps=[(&#x27;standardscaler&#x27;, StandardScaler()),\n",
       "                (&#x27;pca&#x27;, PCA(n_components=2)),\n",
       "                (&#x27;logisticregression&#x27;, LogisticRegression(random_state=1))])</pre></div></div></div><div class=\"sk-serial\"><div class=\"sk-item\"><div class=\"sk-estimator sk-toggleable\"><input class=\"sk-toggleable__control sk-hidden--visually\" id=\"6a9d5783-046e-4ffb-bb18-39b3339b17e5\" type=\"checkbox\" ><label for=\"6a9d5783-046e-4ffb-bb18-39b3339b17e5\" class=\"sk-toggleable__label sk-toggleable__label-arrow\">StandardScaler</label><div class=\"sk-toggleable__content\"><pre>StandardScaler()</pre></div></div></div><div class=\"sk-item\"><div class=\"sk-estimator sk-toggleable\"><input class=\"sk-toggleable__control sk-hidden--visually\" id=\"a1106873-a276-4c1d-a60d-257ab463b719\" type=\"checkbox\" ><label for=\"a1106873-a276-4c1d-a60d-257ab463b719\" class=\"sk-toggleable__label sk-toggleable__label-arrow\">PCA</label><div class=\"sk-toggleable__content\"><pre>PCA(n_components=2)</pre></div></div></div><div class=\"sk-item\"><div class=\"sk-estimator sk-toggleable\"><input class=\"sk-toggleable__control sk-hidden--visually\" id=\"95f47c63-b568-40d0-9c58-61e1150567b1\" type=\"checkbox\" ><label for=\"95f47c63-b568-40d0-9c58-61e1150567b1\" class=\"sk-toggleable__label sk-toggleable__label-arrow\">LogisticRegression</label><div class=\"sk-toggleable__content\"><pre>LogisticRegression(random_state=1)</pre></div></div></div></div></div></div></div>"
      ],
      "text/plain": [
       "Pipeline(steps=[('standardscaler', StandardScaler()),\n",
       "                ('pca', PCA(n_components=2)),\n",
       "                ('logisticregression', LogisticRegression(random_state=1))])"
      ]
     },
     "execution_count": 8,
     "metadata": {},
     "output_type": "execute_result"
    }
   ],
   "source": [
    "import matplotlib.pyplot as plt\n",
    "from sklearn import set_config\n",
    "set_config(display='diagram')\n",
    "pipe_lr"
   ]
  },
  {
   "cell_type": "code",
   "execution_count": 9,
   "metadata": {},
   "outputs": [
    {
     "data": {
      "text/html": [
       "<img src=\"https://git.io/JtsTr\" width=\"500\"/>"
      ],
      "text/plain": [
       "<IPython.core.display.Image object>"
      ]
     },
     "execution_count": 9,
     "metadata": {},
     "output_type": "execute_result"
    }
   ],
   "source": [
    "# 사이킷런의 파이프라인 작동 방식\n",
    "Image(url='https://git.io/JtsTr', width=500) "
   ]
  },
  {
   "cell_type": "markdown",
   "metadata": {},
   "source": [
    "# K-겹 교차 검증을 사용한 모델 성능 평가"
   ]
  },
  {
   "cell_type": "markdown",
   "metadata": {},
   "source": [
    "머신 러닝 모델을 구축하는 핵심 단계 중 하나는 처음 본 데이터에 대한 모델 성능을 추정하는 것이다.  \n",
    "훈련 데이터셋에서 모델을 학습하고 같은 데이터로 새로운 데이터에 얼마나 잘 동작하는지 추정한다고 가정해보자.  \n",
    "모델이 너무 간단하면 과소적합(높은 편향)이 문제가 되고 너무 복잡하면 훈련 데이터에 과대적합(높은 분산)될 수 있다.  \n",
    "\n",
    "적절한 편향-분산 트레이드오프를 찾으려면 모델을 주의 깊게 평가해야 한다. "
   ]
  },
  {
   "cell_type": "markdown",
   "metadata": {},
   "source": [
    "## 홀드아웃 방법"
   ]
  },
  {
   "cell_type": "markdown",
   "metadata": {},
   "source": [
    "전통적이고 널리 사용되는 머신 러닝 모델의 일반화 성능 추정 방법은 홀드아웃 교차 검증.  \n",
    "홀드 아웃 방법은 초기 데이터셋을 별도의 훈련 데이터셋과 테스트 데이터셋으로 나눈다. 전자는 모델 훈련에 사용하고 후자는 일반화 성능을 추정하는 데 사용한다.  \n",
    "일반적인 머신 러닝 애플리케이션에서는 처음 본 데이터에서 예측 성능을 높이기 위해 하이퍼파라미터를 튜닝하고 비교해야 한다. 이 과정을 모델 선택이라고 한다.  \n",
    "모델 선택이란 이름은 주어진 분류 모델에서 튜닝할 파라미터(또는 하이퍼파라미터)의 최적 값을 선택해야 하는 것을 의미한다.  \n",
    "모델 선택에 같은 테스트 데이터셋을 반복해서 재사용하면 훈련 데이터셋의 일부가 되는 셈이고 결국 모델은 과대적합될 것이다.  \n",
    "\n",
    "모델 선택에 홀드아웃 방법을 사용하는 가장 좋은 방법은 데이터를 **훈련 데이터셋, 검증 데이터셋, 테스트 데이터셋 세 개의 부분으로 나누는 것**이다.  \n",
    "훈련 데이터셋은 여러 가지 모델을 훈련하는 데 사용한다. 검증 데이터셋에 대한 성능은 모델 선택에 사용한다. 훈련과 모델 선택 단계에서 모델이 만나지 못한 테스트 데이터셋을 분리했기 때문에 새로운 데이터에 대한 일반화 능력을 덜 편향되게 추정할 수 있는 장점이 있다. "
   ]
  },
  {
   "cell_type": "code",
   "execution_count": 10,
   "metadata": {},
   "outputs": [
    {
     "data": {
      "text/html": [
       "<img src=\"https://git.io/JtsTo\" width=\"500\"/>"
      ],
      "text/plain": [
       "<IPython.core.display.Image object>"
      ]
     },
     "execution_count": 10,
     "metadata": {},
     "output_type": "execute_result"
    }
   ],
   "source": [
    "\n",
    "Image(url='https://git.io/JtsTo', width=500) "
   ]
  },
  {
   "cell_type": "markdown",
   "metadata": {},
   "source": [
    "홀드아웃 방법은 훈련 데이터를 훈련 데이터셋과 검증 데이터셋으로 나누는 방법에 따라 성능 추정이 민감할 수 있다는 것이 단점이다.  \n",
    "검증 데이터셋의 성능 추정이 어떤 샘플을 사용하는냐에 따라 달라질 것이다."
   ]
  },
  {
   "cell_type": "markdown",
   "metadata": {},
   "source": [
    "## K-겹 교차 검증"
   ]
  },
  {
   "cell_type": "markdown",
   "metadata": {},
   "source": [
    "K-겹 교차 검증에서는 중복을 허용하지 않고 훈련 데이터셋을 k개의 폴드(fold)로 랜덤하게 나눈다.  \n",
    "K-1개의 폴드로 모델을 훈련하고 나머지 하나의 폴드로 성능을 평가한다. 이 과정을 k번 반복하여 k개의 모델과 성능 추정을 얻는다. \n",
    "그 다음 서로 다른 독립적인 폴드에서 얻은 성능 추정을 기반으로 모델의 평균 성능을 계산한다.  \n",
    "*홀드아웃 방법에 비해 훈련 데이터셋의 분할에 덜 민감한 성능 추정을 얻을 수 있다.* 즉, 테스트 데이터셋에서 모델의 성능을 평가할 때 만족할 만한 일반화 성능을 내는 최적의 하이퍼파라미터 값을 찾기 위해 사용한다.  \n",
    "\n",
    "만족스러운 하이퍼파라미터 값을 찾은 후에는 전체 훈련 데이터셋을 사용하여 모델을 다시 훈련한다. 그다음 독립적인 테스트 데이터셋을 사용하여 최종 성능을 추정한다.  \n",
    "K-겹 교차 검증 후에 전체 훈현 데이터셋으로 모델을 학습하는 이유는 훈련 샘플이 많을수록 학습 알고리즘이 더 정확하고 안정적인 모델을 만들기 때문이다.  \n",
    "\n",
    "K-겹 교차 검증이 중복을 허용하지 않는 리샘플링 기법이기 때문에 **모든 샘플 포인트가 훈련하는 동안 검증에 딱 한 번 사용되는 장점**이 있다.  \n",
    "이로 인해 홀드아웃 방법보다 모델 성능의 추정에 분산이 낮다. "
   ]
  },
  {
   "cell_type": "code",
   "execution_count": 11,
   "metadata": {},
   "outputs": [
    {
     "data": {
      "text/html": [
       "<img src=\"https://git.io/JtsT6\" width=\"500\"/>"
      ],
      "text/plain": [
       "<IPython.core.display.Image object>"
      ]
     },
     "execution_count": 11,
     "metadata": {},
     "output_type": "execute_result"
    }
   ],
   "source": [
    "\n",
    "Image(url='https://git.io/JtsT6', width=500) "
   ]
  },
  {
   "cell_type": "markdown",
   "metadata": {},
   "source": [
    "경험적으로 보았을 때 K-겹 교차 검증에서 좋은 기본값은 k=10이다. 예를 들어 론 코하비(Ron Kohavi)는 여러 종류의 실제 데이터셋에서 수행한 실험을 통해 10-겹 교차 검증이 가장 뛰어난 편향-분산 트레이드오프를 가진다고 제안했다.  \n",
    "\n",
    "***비교적 작은 훈련 데이터셋으로 작업한다면 폴드 개수를 늘리는 것이 좋다.*** k 값이 증가하면 더 많은 훈련 데이터가 각 반복에 사용되고 모델 성능을 평균하여 일반화 성능을 추정할 때 더 낮은 편향을 만든다.  \n",
    "k 값이 아주 크면 교차 검증 알고리즘의 실행 시간이 늘어나고 분산이 높은 추정을 만든다. 이는 훈련 폴드가 서로 많이 비슷해지기 때문이다.  \n",
    "\n",
    "기본 k-겹 교차 검증방법보다 좀 더 향상된 방법은 **계층적 k-겹 교차 검증(stratified K-fold cross-validation)**이다. 좀 더 나은 편향과 분산 추정을 만든다. 특히 ***클래스 비율이 동등하지 않을 때***이다.  \n",
    "계층적 교차 검증은 각 폴드에서 클래스 비율이 전체 훈련 데이터셋에 있는 클래스 비율을 대표하도록 유지한다. "
   ]
  },
  {
   "cell_type": "code",
   "execution_count": 12,
   "metadata": {},
   "outputs": [
    {
     "name": "stdout",
     "output_type": "stream",
     "text": [
      "폴드:  1, 클래스 분포: [256 153], 정확도: 0.935\n",
      "폴드:  2, 클래스 분포: [256 153], 정확도: 0.935\n",
      "폴드:  3, 클래스 분포: [256 153], 정확도: 0.957\n",
      "폴드:  4, 클래스 분포: [256 153], 정확도: 0.957\n",
      "폴드:  5, 클래스 분포: [256 153], 정확도: 0.935\n",
      "폴드:  6, 클래스 분포: [257 153], 정확도: 0.956\n",
      "폴드:  7, 클래스 분포: [257 153], 정확도: 0.978\n",
      "폴드:  8, 클래스 분포: [257 153], 정확도: 0.933\n",
      "폴드:  9, 클래스 분포: [257 153], 정확도: 0.956\n",
      "폴드: 10, 클래스 분포: [257 153], 정확도: 0.956\n",
      "\n",
      "CV 정확도: 0.950 +/- 0.014\n"
     ]
    }
   ],
   "source": [
    "import numpy as np\n",
    "from sklearn.model_selection import StratifiedKFold\n",
    "\n",
    "kfold = StratifiedKFold(n_splits=10).split(X_train, y_train)\n",
    "\n",
    "scores = []\n",
    "for k, (train, test) in enumerate(kfold):\n",
    "    pipe_lr.fit(X_train[train], y_train[train])\n",
    "    score = pipe_lr.score(X_train[test], y_train[test])\n",
    "    scores.append(score)\n",
    "    print('폴드: %2d, 클래스 분포: %s, 정확도: %.3f' % (k+1,\n",
    "            np.bincount(y_train[train]), score))\n",
    "\n",
    "print('\\nCV 정확도: %.3f +/- %.3f' % (np.mean(scores), np.std(scores)))"
   ]
  },
  {
   "cell_type": "code",
   "execution_count": 13,
   "metadata": {},
   "outputs": [
    {
     "name": "stdout",
     "output_type": "stream",
     "text": [
      "CV 정확도 점수: [0.93478261 0.93478261 0.95652174 0.95652174 0.93478261 0.95555556\n",
      " 0.97777778 0.93333333 0.95555556 0.95555556]\n",
      "CV 정확도: 0.950 +/- 0.014\n"
     ]
    }
   ],
   "source": [
    "# 좀 더 간단하게 계층별 K-겹 교차 검증을 사용하여 모델을 평가\n",
    "from sklearn.model_selection import cross_val_score\n",
    "\n",
    "scores = cross_val_score(estimator=pipe_lr,\n",
    "                         X=X_train,\n",
    "                         y=y_train,\n",
    "                         cv=10,\n",
    "                         n_jobs=1)\n",
    "print('CV 정확도 점수: %s' % scores)\n",
    "print('CV 정확도: %.3f +/- %.3f' % (np.mean(scores), np.std(scores)))"
   ]
  },
  {
   "cell_type": "markdown",
   "metadata": {},
   "source": [
    "### Note\n",
    "`cross_val_score` 함수가 검증에 사용하는 기본 측정 지표는 회귀일 때는 $R^2$, 분류일 때는 정확도이다.  \n",
    "scoring 매개변수를 사용하여 다른 지표로 바꿀 수 있다. "
   ]
  },
  {
   "cell_type": "code",
   "execution_count": 14,
   "metadata": {},
   "outputs": [
    {
     "name": "stdout",
     "output_type": "stream",
     "text": [
      "CV 정확도 점수: [0.93478261 0.93478261 0.95652174 0.95652174 0.93478261 0.95555556\n",
      " 0.97777778 0.93333333 0.95555556 0.95555556]\n",
      "CV 정확도: 0.950 +/- 0.014\n"
     ]
    }
   ],
   "source": [
    "from sklearn.model_selection import cross_validate\n",
    "\n",
    "scores = cross_validate(estimator=pipe_lr, \n",
    "                        X=X_train, \n",
    "                        y=y_train, \n",
    "                        scoring=['accuracy'], \n",
    "                        cv=10, \n",
    "                        n_jobs=-1)\n",
    "print('CV 정확도 점수: %s' % scores['test_accuracy'])\n",
    "print('CV 정확도: %.3f +/- %.3f' % (np.mean(scores['test_accuracy']), \n",
    "                                 np.std(scores['test_accuracy'])))"
   ]
  },
  {
   "cell_type": "markdown",
   "metadata": {},
   "source": [
    "`cross_val_predict` 함수는 `cross_val_score와` 비슷한 인터페이스를 제공하지만 훈련 데이터셋의 각 샘플이 테스트 폴드가 되었을 때 만들어진 예측을 반환한다.  \n",
    "따라서 `cross_val_predict` 함수의 결과를 사용하여 모델의 성능을 계산하면 `cross_val_score` 함수의 결과와 다르며 바람직한 일반화 성능 추정이 아니다.  \n",
    "`cross_val_predict` 함수는 훈련 데이터셋에 대한 예측 결과를 시각화하거나 스태킹(Stacking) 앙상블(Ensemble) 방법처럼 다른 모델에 주입할 훈련 데이터를 만들기 위해 사용할 수 있다. "
   ]
  },
  {
   "cell_type": "code",
   "execution_count": 15,
   "metadata": {},
   "outputs": [
    {
     "data": {
      "text/plain": [
       "array([0, 0, 0, 0, 0, 0, 0, 1, 1, 1])"
      ]
     },
     "execution_count": 15,
     "metadata": {},
     "output_type": "execute_result"
    }
   ],
   "source": [
    "from sklearn.model_selection import cross_val_predict\n",
    "\n",
    "preds = cross_val_predict(estimator=pipe_lr,\n",
    "                          X=X_train, \n",
    "                          y=y_train,\n",
    "                          cv=10, \n",
    "                          n_jobs=-1)\n",
    "preds[:10]"
   ]
  },
  {
   "cell_type": "code",
   "execution_count": null,
   "metadata": {},
   "outputs": [],
   "source": []
  },
  {
   "cell_type": "markdown",
   "metadata": {},
   "source": [
    "# 학습 곡선과 검증 곡선을 사용한 알고리즘 디버깅"
   ]
  },
  {
   "cell_type": "markdown",
   "metadata": {},
   "source": [
    "## 학습 곡선으로 편향과 분산 문제 분석"
   ]
  },
  {
   "cell_type": "markdown",
   "metadata": {},
   "source": [
    "주어진 훈련 데이터셋에 비해 모델이 너무 복잡하면, 즉 모델의 자유도나 모델 파라미터가 너무 많으면 모델이 훈련 데이터에 과대적합되고 처음 본 데이터에 잘 일반화되지 못하는 경향이 있다.  \n",
    "**보통 훈련 샘플을 더 모으면 과대적합을 줄이는 데 도움이 된다.**  \n",
    "\n",
    "하지만 실전에서는 데이터를 더 모으는 것이 매우 비싸거나 그냥 불가능할 때도 많다.  \n",
    "모델의 훈련 정확도와 검증 정확도를 훈련 데이터셋의 크기 함수로 그래프를 그려 보면 모델에 높은 분산의 문제가 있는지 높은 편향의 문제가 있는지 쉽게 감지할 수 있다. 더 많은 데이터를 모으는 것이 문제를 해결할 수 있을지 판단이 가능해진다. "
   ]
  },
  {
   "cell_type": "code",
   "execution_count": 16,
   "metadata": {},
   "outputs": [
    {
     "data": {
      "text/html": [
       "<img src=\"https://git.io/JtsTi\" width=\"600\"/>"
      ],
      "text/plain": [
       "<IPython.core.display.Image object>"
      ]
     },
     "execution_count": 16,
     "metadata": {},
     "output_type": "execute_result"
    }
   ],
   "source": [
    "Image(url='https://git.io/JtsTi', width=600) "
   ]
  },
  {
   "cell_type": "markdown",
   "metadata": {},
   "source": [
    "왼쪽 위 그래프는 편향이 높은 모델을 보여준다. 이 모델은 훈련 정확도와 교차 검증 정확도가 모두 낮다. 훈련 데이터에 과소적합되었다는 것을 나타낸다.  \n",
    "이 문제를 해결하는 일반적인 방법은 모델의 파라미터 개수를 늘리는 것이다. 예를 들어 추가적인 특성을 수집하거나 만든다. 또는 서포트 벡터 머신(SVM)이나 로지스틱 회귀 분류기에서 규제 강도를 줄인다.  \n",
    "\n",
    "오른쪽 위 그래프는 분산이 높은 모델을 보여준다. 훈련 정확도와 교차 검증 사이에 큰 차이가 있다는 것을 나타난다.  \n",
    "과대적합 문제를 해결하려면 더 많은 훈련 데이터를 모으거나 모델 복잡도를 낮추거나 규제를 증가시킬 수 있다. 규제가 없는 모델에서는 특성 선택이나 특성 추출을 통해 특성 개수를 줄여 과대적합을 감소할 수 있다.  \n",
    "더 많은 훈련 데이터를 수집하는 것이 보통 과대적합의 가능성을 줄이지만 항상 도움이 되는 것은 아니다. "
   ]
  },
  {
   "cell_type": "code",
   "execution_count": 17,
   "metadata": {},
   "outputs": [
    {
     "data": {
      "image/png": "[encoded data removed]",
      "text/plain": [
       "<Figure size 432x288 with 1 Axes>"
      ]
     },
     "metadata": {
      "needs_background": "light"
     },
     "output_type": "display_data"
    }
   ],
   "source": [
    "import matplotlib.pyplot as plt\n",
    "from sklearn.model_selection import learning_curve\n",
    "\n",
    "\n",
    "pipe_lr = make_pipeline(StandardScaler(),\n",
    "                        LogisticRegression(penalty='l2', random_state=1,\n",
    "                                           max_iter=10000))\n",
    "\n",
    "train_sizes, train_scores, test_scores =\\\n",
    "                learning_curve(estimator=pipe_lr,\n",
    "                               X=X_train,\n",
    "                               y=y_train,\n",
    "                               train_sizes=np.linspace(0.1, 1.0, 10),\n",
    "                               cv=10,\n",
    "                               n_jobs=1)\n",
    "\n",
    "train_mean = np.mean(train_scores, axis=1)\n",
    "train_std = np.std(train_scores, axis=1)\n",
    "test_mean = np.mean(test_scores, axis=1)\n",
    "test_std = np.std(test_scores, axis=1)\n",
    "\n",
    "plt.plot(train_sizes, train_mean,\n",
    "         color='blue', marker='o',\n",
    "         markersize=5, label='Training accuracy')\n",
    "\n",
    "plt.fill_between(train_sizes,\n",
    "                 train_mean + train_std,\n",
    "                 train_mean - train_std,\n",
    "                 alpha=0.15, color='blue')\n",
    "\n",
    "plt.plot(train_sizes, test_mean,\n",
    "         color='green', linestyle='--',\n",
    "         marker='s', markersize=5,\n",
    "         label='Validation accuracy')\n",
    "\n",
    "plt.fill_between(train_sizes,\n",
    "                 test_mean + test_std,\n",
    "                 test_mean - test_std,\n",
    "                 alpha=0.15, color='green')\n",
    "\n",
    "plt.grid()\n",
    "plt.xlabel('Number of training examples')\n",
    "plt.ylabel('Accuracy')\n",
    "plt.legend(loc='lower right')\n",
    "plt.ylim([0.8, 1.03])\n",
    "plt.tight_layout()\n",
    "# plt.savefig('images/06_05.png', dpi=300)\n",
    "plt.show()"
   ]
  },
  {
   "cell_type": "markdown",
   "metadata": {},
   "source": [
    "모델의 훈련에 250개의 샘플 이상을 사용할 때 훈련과 검증 데이터셋에서 잘 작동한다.  \n",
    "후련 데이터셋이 250개 샘플보다 줄어들면 훈련 정확도가 증가하면서 훈련 정확도와 검증 정확도 사이의 차이는 넓어진다. 이는 과대적합이 증가한다는 증거이다."
   ]
  },
  {
   "cell_type": "markdown",
   "metadata": {},
   "source": [
    "## 검증 곡선으로 과대적합 과소적합 조사"
   ]
  },
  {
   "cell_type": "markdown",
   "metadata": {},
   "source": [
    "검증 곡선은 **과대적합과 과소적합 문제를 해결하여 모델 성능을 높일 수 있는 유용한 도구**이다.  \n",
    "검증 곡선은 학습 곡선과 관련이 있지만 샘플 크기의 함수로 훈련 정확도와 테스트 정확도를 그리는 대신 모델 파라미터 값의 함수로 그린다. "
   ]
  },
  {
   "cell_type": "code",
   "execution_count": 18,
   "metadata": {},
   "outputs": [
    {
     "data": {
      "image/png": "[encoded data removed]",
      "text/plain": [
       "<Figure size 432x288 with 1 Axes>"
      ]
     },
     "metadata": {
      "needs_background": "light"
     },
     "output_type": "display_data"
    }
   ],
   "source": [
    "from sklearn.model_selection import validation_curve\n",
    "\n",
    "\n",
    "param_range = [0.001, 0.01, 0.1, 1.0, 10.0, 100.0]\n",
    "train_scores, test_scores = validation_curve(\n",
    "                estimator=pipe_lr, \n",
    "                X=X_train, \n",
    "                y=y_train, \n",
    "                param_name='logisticregression__C', \n",
    "                param_range=param_range,\n",
    "                cv=10)\n",
    "\n",
    "train_mean = np.mean(train_scores, axis=1)\n",
    "train_std = np.std(train_scores, axis=1)\n",
    "test_mean = np.mean(test_scores, axis=1)\n",
    "test_std = np.std(test_scores, axis=1)\n",
    "\n",
    "plt.plot(param_range, train_mean, \n",
    "         color='blue', marker='o', \n",
    "         markersize=5, label='Training accuracy')\n",
    "\n",
    "plt.fill_between(param_range, train_mean + train_std,\n",
    "                 train_mean - train_std, alpha=0.15,\n",
    "                 color='blue')\n",
    "\n",
    "plt.plot(param_range, test_mean, \n",
    "         color='green', linestyle='--', \n",
    "         marker='s', markersize=5, \n",
    "         label='Validation accuracy')\n",
    "\n",
    "plt.fill_between(param_range, \n",
    "                 test_mean + test_std,\n",
    "                 test_mean - test_std, \n",
    "                 alpha=0.15, color='green')\n",
    "\n",
    "plt.grid()\n",
    "plt.xscale('log')\n",
    "plt.legend(loc='lower right')\n",
    "plt.xlabel('Parameter C')\n",
    "plt.ylabel('Accuracy')\n",
    "plt.ylim([0.8, 1.0])\n",
    "plt.tight_layout()\n",
    "# plt.savefig('images/06_06.png', dpi=300)\n",
    "plt.show()"
   ]
  },
  {
   "cell_type": "markdown",
   "metadata": {},
   "source": [
    "C 값이 바꾸미에 따라 정확도 차이가 미묘하지만 규제 강도를 높이면(C 값을 줄이면) 모델이 데이터에 조금 과소적합되는 것을 볼 수 있다.  \n",
    "규제 강도가 낮아지는 큰 C 값에서는 모델이 데이터에 조금 과대적합되는 경향을 보인다. 이 경우에 적절한 C 값은 0.01과 0.1 사이이다. "
   ]
  },
  {
   "cell_type": "markdown",
   "metadata": {},
   "source": [
    "# 그리드 서치를 사용한 머신 러닝 모델 세부 튜닝"
   ]
  },
  {
   "cell_type": "markdown",
   "metadata": {},
   "source": [
    "머신 러닝에는 두 종류의 파라미터가 있다.  \n",
    "하나는 훈련 데이터에서 학습되는 파라미터이다. 예를 들어 로지스틱 회귀의 가중치이다.  \n",
    "\n",
    "다른 하나는 별도로 최적화되는 학습 알고리즘의 파라미터이다.  \n",
    "후자는 모델의 튜닝 파라미터이고, 하이퍼파라미터라고도 불른다. 예를 들어 로지스틱 회귀의 규제 매개변수나 결정 트리의 깊이 매개변수이다. "
   ]
  },
  {
   "cell_type": "markdown",
   "metadata": {},
   "source": [
    "## 그리드 서치를 사용한 하이퍼파라미터 튜닝"
   ]
  },
  {
   "cell_type": "markdown",
   "metadata": {},
   "source": [
    "리스트로 지정된 여러 가지 하이퍼파라미터 값 전체를 모두 조사한다.  \n",
    "이 리스트에 있는 값의 모든 조합에 대해 모델 성능을 평가하여 최적의 조합을 찾는다. "
   ]
  },
  {
   "cell_type": "code",
   "execution_count": 19,
   "metadata": {},
   "outputs": [
    {
     "name": "stdout",
     "output_type": "stream",
     "text": [
      "0.9846859903381642\n",
      "{'svc__C': 100.0, 'svc__gamma': 0.001, 'svc__kernel': 'rbf'}\n"
     ]
    }
   ],
   "source": [
    "from sklearn.model_selection import GridSearchCV\n",
    "from sklearn.svm import SVC\n",
    "\n",
    "pipe_svc = make_pipeline(StandardScaler(),\n",
    "                         SVC(random_state=1))\n",
    "\n",
    "param_range = [0.0001, 0.001, 0.01, 0.1, 1.0, 10.0, 100.0, 1000.0]\n",
    "\n",
    "param_grid = [{'svc__C': param_range, \n",
    "               'svc__kernel': ['linear']},\n",
    "              {'svc__C': param_range, \n",
    "               'svc__gamma': param_range, \n",
    "               'svc__kernel': ['rbf']}]\n",
    "\n",
    "gs = GridSearchCV(estimator=pipe_svc, \n",
    "                  param_grid=param_grid, \n",
    "                  scoring='accuracy', \n",
    "                  refit=True,\n",
    "                  cv=10,\n",
    "                  n_jobs=-1)\n",
    "gs = gs.fit(X_train, y_train)\n",
    "print(gs.best_score_)\n",
    "print(gs.best_params_)"
   ]
  },
  {
   "cell_type": "code",
   "execution_count": 20,
   "metadata": {},
   "outputs": [
    {
     "name": "stdout",
     "output_type": "stream",
     "text": [
      "테스트 정확도: 0.974\n"
     ]
    }
   ],
   "source": [
    "clf = gs.best_estimator_\n",
    "\n",
    "# refit=True로 지정했기 때문에 다시 fit() 메서드를 호출할 필요가 없습니다.\n",
    "# clf.fit(X_train, y_train)\n",
    "\n",
    "print('테스트 정확도: %.3f' % clf.score(X_test, y_test))"
   ]
  },
  {
   "cell_type": "markdown",
   "metadata": {},
   "source": [
    "### Note\n",
    "`GridSearchCV` 클래스와 `cross_validate` 함수에서 `return_train_score` 매개변수를 `True로` 지정하면 훈련 폴드에 대한 점수를 계산하여 반환한다.  \n",
    "훈련 데이터셋에 대한 점수를 보고 과대적합과 과소적합에 대한 정보를 얻을 수 있지만 실행 시간이 오래 걸릴 수 있다.  \n",
    "`param_range에` 여덟 개의 값이 지정되어 있기 때문에 `SVC` 모델은 `'linear'` 커널에 대해 8번, `'rbf'` 커널에 대해 64번 교차 검증이 수행된다. 따라서 훈련 폴드마다 반환되는 점수는 총 72개이다.  \n",
    "이 값은 `GridSearchCV` 클래스의 `cv_results_` 딕셔너리 속성에 `split{폴드번호}_train_score` 와 같은 키에 저장되어 있다. "
   ]
  },
  {
   "cell_type": "code",
   "execution_count": 21,
   "metadata": {},
   "outputs": [],
   "source": [
    "gs = GridSearchCV(estimator=pipe_svc, \n",
    "                  param_grid=param_grid, \n",
    "                  scoring='accuracy', \n",
    "                  cv=10,\n",
    "                  return_train_score=True,\n",
    "                  n_jobs=-1)\n",
    "gs = gs.fit(X_train, y_train)"
   ]
  },
  {
   "cell_type": "code",
   "execution_count": 22,
   "metadata": {},
   "outputs": [
    {
     "data": {
      "text/plain": [
       "array([0.6405868 , 0.93643032, 0.97555012, 0.98777506, 0.98533007,\n",
       "       0.99266504, 0.99755501, 1.        , 0.62591687, 0.62591687,\n",
       "       0.62591687, 0.62591687, 0.62591687, 0.62591687, 0.62591687,\n",
       "       0.62591687, 0.62591687, 0.62591687, 0.62591687, 0.62591687,\n",
       "       0.62591687, 0.62591687, 0.62591687, 0.62591687, 0.62591687,\n",
       "       0.62591687, 0.62591687, 0.62591687, 0.62591687, 0.62591687,\n",
       "       0.62591687, 0.62591687, 0.62591687, 0.7799511 , 0.94621027,\n",
       "       0.96577017, 0.62591687, 0.62591687, 0.62591687, 0.62591687,\n",
       "       0.78484108, 0.94621027, 0.9804401 , 0.99266504, 1.        ,\n",
       "       1.        , 1.        , 1.        , 0.94621027, 0.97799511,\n",
       "       0.99266504, 1.        , 1.        , 1.        , 1.        ,\n",
       "       1.        , 0.97799511, 0.98777506, 0.99511002, 1.        ,\n",
       "       1.        , 1.        , 1.        , 1.        , 0.98533007,\n",
       "       0.99266504, 1.        , 1.        , 1.        , 1.        ,\n",
       "       1.        , 1.        ])"
      ]
     },
     "execution_count": 22,
     "metadata": {},
     "output_type": "execute_result"
    }
   ],
   "source": [
    "gs.cv_results_['split0_train_score']"
   ]
  },
  {
   "cell_type": "code",
   "execution_count": 23,
   "metadata": {},
   "outputs": [
    {
     "data": {
      "text/plain": [
       "array([0.6402928 , 0.93724074, 0.97240801, 0.98510406, 0.98803447,\n",
       "       0.99145447, 0.99707019, 0.9992677 , 0.62637307, 0.62637307,\n",
       "       0.62637307, 0.62637307, 0.62637307, 0.62637307, 0.62637307,\n",
       "       0.62637307, 0.62637307, 0.62637307, 0.62637307, 0.62637307,\n",
       "       0.62637307, 0.62637307, 0.62637307, 0.62637307, 0.62637307,\n",
       "       0.62637307, 0.62637307, 0.62637307, 0.62637307, 0.62637307,\n",
       "       0.62637307, 0.62637307, 0.62637307, 0.77070249, 0.94700817,\n",
       "       0.97167094, 0.62637307, 0.62637307, 0.62637307, 0.62637307,\n",
       "       0.77949371, 0.94725326, 0.97704753, 0.99291848, 1.        ,\n",
       "       1.        , 1.        , 1.        , 0.94652096, 0.97753354,\n",
       "       0.99023257, 1.        , 1.        , 1.        , 1.        ,\n",
       "       1.        , 0.97680064, 0.98852287, 0.99755799, 1.        ,\n",
       "       1.        , 1.        , 1.        , 1.        , 0.98803387,\n",
       "       0.99291848, 1.        , 1.        , 1.        , 1.        ,\n",
       "       1.        , 1.        ])"
      ]
     },
     "execution_count": 23,
     "metadata": {},
     "output_type": "execute_result"
    }
   ],
   "source": [
    "# 전체 훈련 점수의 평균 값은 'mean_train_score' 키에 저장\n",
    "gs.cv_results_['mean_train_score']"
   ]
  },
  {
   "cell_type": "code",
   "execution_count": 24,
   "metadata": {},
   "outputs": [
    {
     "data": {
      "text/plain": [
       "array([0.63043478, 0.89130435, 0.95652174, 0.97826087, 0.95652174,\n",
       "       0.93478261, 0.95652174, 0.93478261, 0.63043478, 0.63043478,\n",
       "       0.63043478, 0.63043478, 0.63043478, 0.63043478, 0.63043478,\n",
       "       0.63043478, 0.63043478, 0.63043478, 0.63043478, 0.63043478,\n",
       "       0.63043478, 0.63043478, 0.63043478, 0.63043478, 0.63043478,\n",
       "       0.63043478, 0.63043478, 0.63043478, 0.63043478, 0.63043478,\n",
       "       0.63043478, 0.63043478, 0.63043478, 0.69565217, 0.93478261,\n",
       "       0.95652174, 0.63043478, 0.63043478, 0.63043478, 0.63043478,\n",
       "       0.69565217, 0.93478261, 0.93478261, 1.        , 0.63043478,\n",
       "       0.63043478, 0.63043478, 0.63043478, 0.93478261, 0.97826087,\n",
       "       1.        , 1.        , 0.63043478, 0.63043478, 0.63043478,\n",
       "       0.63043478, 0.97826087, 0.97826087, 0.97826087, 1.        ,\n",
       "       0.63043478, 0.63043478, 0.63043478, 0.63043478, 0.97826087,\n",
       "       0.95652174, 0.95652174, 1.        , 0.63043478, 0.63043478,\n",
       "       0.63043478, 0.63043478])"
      ]
     },
     "execution_count": 24,
     "metadata": {},
     "output_type": "execute_result"
    }
   ],
   "source": [
    "# 비슷하게 첫 번째 폴드에 대한 테스트 점수는 'split0_test_score' 키에 저장.\n",
    "gs.cv_results_['split0_test_score']"
   ]
  },
  {
   "cell_type": "code",
   "execution_count": 25,
   "metadata": {},
   "outputs": [
    {
     "name": "stdout",
     "output_type": "stream",
     "text": [
      "테스트 정확도: 0.974\n"
     ]
    }
   ],
   "source": [
    "# GridSearchCV 클래스의 객체에서도 최종 모델의 score, predict, transform 메서드를 바로 호출할 수 있다.\n",
    "print('테스트 정확도: %.3f' % gs.score(X_test, y_test))"
   ]
  },
  {
   "cell_type": "markdown",
   "metadata": {},
   "source": [
    "### Note\n",
    "그리그 서치가 최적의 매개변수 조합을 찾을 수 있는 강력한 도구이지만 가능한 모든 매개변수 조합을 평가하기 위해 계산 비용이 매우 많이 든다.  \n",
    "사이킷런에는 여러 가지 매개변수 조합을 샘플링하는 다른 방법으로 랜덤 서치(randomized search)가 있다.  \n",
    "\n",
    "랜덤 서치는 일반적으로 그리드 서치와 비슷한 성능을 내지만 훨씬 비용과 시간이 적게 든다."
   ]
  },
  {
   "cell_type": "code",
   "execution_count": 26,
   "metadata": {},
   "outputs": [
    {
     "name": "stdout",
     "output_type": "stream",
     "text": [
      "0.9824637681159419\n",
      "{'svc__C': 210.6644070836221, 'svc__gamma': 0.0006861724481510375, 'svc__kernel': 'rbf'}\n"
     ]
    }
   ],
   "source": [
    "from sklearn.model_selection import RandomizedSearchCV\n",
    "from sklearn.utils.fixes import loguniform\n",
    "\n",
    "distribution =  loguniform(0.0001, 1000.0)\n",
    "\n",
    "param_dist = [{'svc__C': distribution, \n",
    "               'svc__kernel': ['linear']},\n",
    "              {'svc__C': distribution, \n",
    "               'svc__gamma': distribution, \n",
    "               'svc__kernel': ['rbf']}]\n",
    "\n",
    "rs = RandomizedSearchCV(estimator=pipe_svc,\n",
    "                        param_distributions=param_dist,\n",
    "                        n_iter=30,\n",
    "                        cv=10,\n",
    "                        random_state=1,\n",
    "                        n_jobs=-1)\n",
    "rs = rs.fit(X_train, y_train)\n",
    "print(rs.best_score_)\n",
    "print(rs.best_params_)"
   ]
  },
  {
   "cell_type": "markdown",
   "metadata": {},
   "source": [
    "사이킷런 0.24 버전에서 추가된 `HalvingGridSearchCV`는 모든 파라미터 조합에 대해 제한된 자원으로 실행한 후 가장 좋은 후보를 골라서 더 많은 자원을 투여하는 식으로 반복적으로 탐색을 수행.  \n",
    "`HalvingGridSearchCV`의 `resource` 매개변수는 반복마다 늘려 갈 자원을 정의한다. "
   ]
  },
  {
   "cell_type": "code",
   "execution_count": 27,
   "metadata": {},
   "outputs": [
    {
     "name": "stdout",
     "output_type": "stream",
     "text": [
      "n_iterations: 3\n",
      "n_required_iterations: 4\n",
      "n_possible_iterations: 3\n",
      "min_resources_: 40\n",
      "max_resources_: 455\n",
      "aggressive_elimination: False\n",
      "factor: 3\n",
      "----------\n",
      "iter: 0\n",
      "n_candidates: 72\n",
      "n_resources: 40\n",
      "Fitting 10 folds for each of 72 candidates, totalling 720 fits\n",
      "----------\n",
      "iter: 1\n",
      "n_candidates: 24\n",
      "n_resources: 120\n",
      "Fitting 10 folds for each of 24 candidates, totalling 240 fits\n",
      "----------\n",
      "iter: 2\n",
      "n_candidates: 8\n",
      "n_resources: 360\n",
      "Fitting 10 folds for each of 8 candidates, totalling 80 fits\n",
      "0.9803174603174604\n",
      "{'svc__C': 10.0, 'svc__gamma': 0.01, 'svc__kernel': 'rbf'}\n"
     ]
    }
   ],
   "source": [
    "from sklearn.experimental import enable_halving_search_cv\n",
    "from sklearn.model_selection import HalvingGridSearchCV\n",
    "hgs = HalvingGridSearchCV(\n",
    "    estimator=pipe_svc,\n",
    "    param_grid=param_grid,\n",
    "    cv=10,\n",
    "    n_jobs=-1, verbose=1)\n",
    "\n",
    "hgs = hgs.fit(X_train, y_train)\n",
    "print(hgs.best_score_)\n",
    "print(hgs.best_params_)"
   ]
  },
  {
   "cell_type": "markdown",
   "metadata": {},
   "source": [
    "## 중첩 교차 검증을 사용한 알고리즘 선택"
   ]
  },
  {
   "cell_type": "markdown",
   "metadata": {},
   "source": [
    "**여러 종류의 머신 러닝 알고리즘을 비교**하려면 중첩 교차 검증(nested cross-validation)방법이 권장된다.  "
   ]
  },
  {
   "cell_type": "code",
   "execution_count": 28,
   "metadata": {},
   "outputs": [
    {
     "data": {
      "text/html": [
       "<img src=\"https://git.io/JtsTP\" width=\"500\"/>"
      ],
      "text/plain": [
       "<IPython.core.display.Image object>"
      ]
     },
     "execution_count": 28,
     "metadata": {},
     "output_type": "execute_result"
    }
   ],
   "source": [
    "Image(url='https://git.io/JtsTP', width=500) "
   ]
  },
  {
   "cell_type": "markdown",
   "metadata": {},
   "source": [
    "중첩 교차 검증은 바깥쪽 K-겹 교차 검증 루프가 데이터를 훈련 폴드와 테스트 폴드로 나누고 안쪽 루프가 훈련 폴드에서 K-겹 교차 검증을 수행하여 모델을 선택한다.  \n",
    "모델이 선택되면 테스트 폴드를 사용하여 모델 성능을 평가한다.  \n",
    "\n",
    "이런 방식은 계산 성능이 중요한 **대용량 데이터셋에서 유용**하다."
   ]
  },
  {
   "cell_type": "code",
   "execution_count": 29,
   "metadata": {},
   "outputs": [
    {
     "name": "stdout",
     "output_type": "stream",
     "text": [
      "CV 정확도: 0.974 +/- 0.015\n"
     ]
    }
   ],
   "source": [
    "gs = GridSearchCV(estimator=pipe_svc,\n",
    "                  param_grid=param_grid,\n",
    "                  scoring='accuracy',\n",
    "                  cv=2)\n",
    "\n",
    "scores = cross_val_score(gs, X_train, y_train, \n",
    "                         scoring='accuracy', cv=5)\n",
    "print('CV 정확도: %.3f +/- %.3f' % (np.mean(scores),\n",
    "                                      np.std(scores)))"
   ]
  },
  {
   "cell_type": "markdown",
   "metadata": {},
   "source": [
    "변환된 평균 교차 검증 점수는 모델의 하이퍼파라미터를 튜닝했을 때 처음 본 데이터에서 기대할 수 있는 추정값이 된다.   \n",
    "\n",
    "예를 들어 중첩 교차 검증을 사용하여 SVM 모델과 단일 결정 트리 분류기를 비교할 수 있다.  \n",
    "간단한 예를 위해 `max_depth` 매개변수만 튜닝해보자."
   ]
  },
  {
   "cell_type": "code",
   "execution_count": 30,
   "metadata": {},
   "outputs": [
    {
     "name": "stdout",
     "output_type": "stream",
     "text": [
      "CV 정확도: 0.934 +/- 0.016\n"
     ]
    }
   ],
   "source": [
    "from sklearn.tree import DecisionTreeClassifier\n",
    "\n",
    "gs = GridSearchCV(estimator=DecisionTreeClassifier(random_state=0),\n",
    "                  param_grid=[{'max_depth': [1, 2, 3, 4, 5, 6, 7, None]}],\n",
    "                  scoring='accuracy',\n",
    "                  cv=2)\n",
    "\n",
    "scores = cross_val_score(gs, X_train, y_train, \n",
    "                         scoring='accuracy', cv=5)\n",
    "print('CV 정확도: %.3f +/- %.3f' % (np.mean(scores), \n",
    "                                      np.std(scores)))"
   ]
  },
  {
   "cell_type": "markdown",
   "metadata": {},
   "source": [
    "결과에서 알 수 있듯이 SVM 모델 중첩 교차 검증 성능(97.4%)은 결정 트리의 성능(93.4%)보다 훨씬 뛰어나다.  \n",
    "이 데이터셋과 동일 분포에서 발생되는 새로운 데이터를 분류하기 위해서는 SVM이 더 좋은 선택일 것이다."
   ]
  },
  {
   "cell_type": "markdown",
   "metadata": {},
   "source": [
    "# 여러 가지 성능 평가 지표"
   ]
  },
  {
   "cell_type": "markdown",
   "metadata": {},
   "source": [
    "## 오차 행렬"
   ]
  },
  {
   "cell_type": "code",
   "execution_count": 31,
   "metadata": {},
   "outputs": [
    {
     "data": {
      "text/html": [
       "<img src=\"https://git.io/JtsT1\" width=\"300\"/>"
      ],
      "text/plain": [
       "<IPython.core.display.Image object>"
      ]
     },
     "execution_count": 31,
     "metadata": {},
     "output_type": "execute_result"
    }
   ],
   "source": [
    "Image(url='https://git.io/JtsT1', width=300) "
   ]
  },
  {
   "cell_type": "markdown",
   "metadata": {},
   "source": [
    "오차 행렬은 위의 그림과 같이 **진짜 양성**(True Positive, TP), **진짜 음성**(True Negative, TN), **거짓 양성**(False Positive, FP), **거짓 음성**(False Negative, FN)의 개수를 적은 단순한 정방 행령이다."
   ]
  },
  {
   "cell_type": "code",
   "execution_count": 32,
   "metadata": {},
   "outputs": [
    {
     "name": "stdout",
     "output_type": "stream",
     "text": [
      "[[71  1]\n",
      " [ 2 40]]\n"
     ]
    }
   ],
   "source": [
    "from sklearn.metrics import confusion_matrix\n",
    "\n",
    "pipe_svc.fit(X_train, y_train)\n",
    "y_pred = pipe_svc.predict(X_test)\n",
    "confmat = confusion_matrix(y_true=y_test, y_pred=y_pred)\n",
    "print(confmat)"
   ]
  },
  {
   "cell_type": "code",
   "execution_count": 33,
   "metadata": {},
   "outputs": [
    {
     "data": {
      "image/png": "[encoded data removed]",
      "text/plain": [
       "<Figure size 180x180 with 1 Axes>"
      ]
     },
     "metadata": {
      "needs_background": "light"
     },
     "output_type": "display_data"
    }
   ],
   "source": [
    "fig, ax = plt.subplots(figsize=(2.5, 2.5))\n",
    "ax.matshow(confmat, cmap=plt.cm.Blues, alpha=0.3)\n",
    "for i in range(confmat.shape[0]):\n",
    "    for j in range(confmat.shape[1]):\n",
    "        ax.text(x=j, y=i, s=confmat[i, j], va='center', ha='center')\n",
    "\n",
    "plt.xlabel('Predicted label')\n",
    "plt.ylabel('True label')\n",
    "\n",
    "plt.tight_layout()\n",
    "# plt.savefig('images/06_09.png', dpi=300)\n",
    "plt.show()"
   ]
  },
  {
   "cell_type": "code",
   "execution_count": 34,
   "metadata": {},
   "outputs": [
    {
     "name": "stderr",
     "output_type": "stream",
     "text": [
      "/opt/anaconda3/lib/python3.9/site-packages/sklearn/utils/deprecation.py:87: FutureWarning: Function plot_confusion_matrix is deprecated; Function `plot_confusion_matrix` is deprecated in 1.0 and will be removed in 1.2. Use one of the class methods: ConfusionMatrixDisplay.from_predictions or ConfusionMatrixDisplay.from_estimator.\n",
      "  warnings.warn(msg, category=FutureWarning)\n"
     ]
    },
    {
     "data": {
      "image/png": "[encoded data removed]",
      "text/plain": [
       "<Figure size 432x288 with 2 Axes>"
      ]
     },
     "metadata": {
      "needs_background": "light"
     },
     "output_type": "display_data"
    }
   ],
   "source": [
    "# 사이킷런 0.22 버전에서 추가된 plot_confusion_matrix() 함수를 사용하면 오차 행렬을 쉽게 그릴 수 있다.\n",
    "from sklearn.metrics import plot_confusion_matrix\n",
    "\n",
    "plot_confusion_matrix(pipe_svc, X_test, y_test)\n",
    "# plt.savefig('images/06_plot_confusion_matrix.png', dpi=300)\n",
    "plt.show()"
   ]
  },
  {
   "cell_type": "code",
   "execution_count": 35,
   "metadata": {},
   "outputs": [
    {
     "name": "stderr",
     "output_type": "stream",
     "text": [
      "/opt/anaconda3/lib/python3.9/site-packages/sklearn/utils/deprecation.py:87: FutureWarning: Function plot_confusion_matrix is deprecated; Function `plot_confusion_matrix` is deprecated in 1.0 and will be removed in 1.2. Use one of the class methods: ConfusionMatrixDisplay.from_predictions or ConfusionMatrixDisplay.from_estimator.\n",
      "  warnings.warn(msg, category=FutureWarning)\n"
     ]
    },
    {
     "data": {
      "image/png": "[encoded data removed]",
      "text/plain": [
       "<Figure size 432x288 with 2 Axes>"
      ]
     },
     "metadata": {
      "needs_background": "light"
     },
     "output_type": "display_data"
    }
   ],
   "source": [
    "# normalize 매개변수를 사용하여 오차 행렬의 값을 정규화할 수 있다.\n",
    "plot_confusion_matrix(pipe_svc, X_test, y_test, \n",
    "                      normalize='all')\n",
    "# plt.savefig('images/06_plot_confusion_matrix_normalize.png', dpi=300)\n",
    "plt.show()"
   ]
  },
  {
   "cell_type": "markdown",
   "metadata": {},
   "source": [
    "## 분류 모델의 정밀도와 재현율 최적화"
   ]
  },
  {
   "cell_type": "markdown",
   "metadata": {},
   "source": [
    "예측 오차(ERR)와 정확도(ACC) 모두 *얼마나 많은 샘플을 잘못 분류했는지 알반적인 정보를 알려준다.*  \n",
    "오차는 잘못된 예측의 합을 전체 예측 샘플 개수로 나눈 것이다. 정확도는 옳은 예측의 합을 전체 예측 샘플 개수로 나누어 계산한다.  \n",
    "$$ERR={FP+FN \\over FP+FN+TP+TN}$$  \n",
    "\n",
    "예측 정확도는 오차에서 바로 계산할 수 있다.  \n",
    "$$ACC = {TP+TN \\over FP+FN+TP+TN} = 1-ERR$$  \n",
    "\n",
    "**진짜 양성 비율**(True Positive Rate, TPR)과 **거짓 양성 비율**(False Positive Rate, FPR)은 ***클래스 비율이 다른 경우 유용한 성능 지표***이다.  \n",
    "$$FPR = {FP \\over N} = {FP \\over FP+TN}$$  \n",
    "$$TPR = {TP \\over P} = {TP \\over FN+TP}$$  \n",
    "\n",
    "종양 진단 문제에서는 환자가 적절한 치료를 받을 수 있도록 악성 종양을 감지하는 데 관심이 있다. 또 불필요하게 환자에게 걱정을 끼치지 않도록 음성 조양이 악성으로 분류되는 경우(FP)를 줄이는 것이 중요하다.  \n",
    "FPR에 비해서 TPR은 전체 양성 샘플(P) 중에서 올바르게 분류된 양성 샘플의 비율을 알려준다.  \n",
    "\n",
    "정확도(PRE)와 재현율(REC) 성능 지표는 진짜 양성과 진짜 음성 샘플의 비율과 관련이 있다. 사실 REC는 TPR의 다른 이름이다.  \n",
    "$$PRE = {TP \\over TP+FP}$$  \n",
    "$$REC = TPR = {TP \\over P} = {TP \\over FN+TP}$$  \n",
    "\n",
    "</br></br>  \n",
    "악성 종양 감지 문제에서 재현율을 최적화하면 악성 종양을 감지하지 못할 확률은 최소화하는 데 도움이 된다. 하지만 건강한 환자임에도 악성 종양으로 예측하는 비용이 발생한다.(높은 FP때문)  \n",
    "반대로 정밀도를 최적화하면 환자가 악성 종양을 가졌는지 정확히 예측하게 된다. 하지만 악성 종양 환자를 자주 놓치는 결과를 초래한다.(높은 FN떄문)  \n",
    "\n",
    "PRE와 REC 최적화로 인한 장단점의 균형을 맞추기 위해 PRE와 REC를 조합한 F1-점수를 자주 사용한다.  \n",
    "$$F1 = 2{{PRE \\times REC} \\over {PRE+REC}}$$"
   ]
  },
  {
   "cell_type": "code",
   "execution_count": 36,
   "metadata": {},
   "outputs": [
    {
     "name": "stdout",
     "output_type": "stream",
     "text": [
      "정밀도: 0.976\n",
      "재현율: 0.952\n",
      "F1: 0.964\n"
     ]
    }
   ],
   "source": [
    "from sklearn.metrics import precision_score, recall_score, f1_score\n",
    "\n",
    "print('정밀도: %.3f' % precision_score(y_true=y_test, y_pred=y_pred))\n",
    "print('재현율: %.3f' % recall_score(y_true=y_test, y_pred=y_pred))\n",
    "print('F1: %.3f' % f1_score(y_true=y_test, y_pred=y_pred))"
   ]
  },
  {
   "cell_type": "code",
   "execution_count": 37,
   "metadata": {},
   "outputs": [
    {
     "name": "stdout",
     "output_type": "stream",
     "text": [
      "0.9861994953378878\n",
      "{'svc__C': 10.0, 'svc__gamma': 0.01, 'svc__kernel': 'rbf'}\n"
     ]
    }
   ],
   "source": [
    "# 또한, GridSearchCVdml scoring 매개변수를 사용하여 정확도 대신 다른 성능 지표를 사용할 수 있다.\n",
    "from sklearn.metrics import make_scorer\n",
    "\n",
    "scorer = make_scorer(f1_score, pos_label=0)\n",
    "\n",
    "c_gamma_range = [0.01, 0.1, 1.0, 10.0]\n",
    "\n",
    "param_grid = [{'svc__C': c_gamma_range,\n",
    "               'svc__kernel': ['linear']},\n",
    "              {'svc__C': c_gamma_range,\n",
    "               'svc__gamma': c_gamma_range,\n",
    "               'svc__kernel': ['rbf']}]\n",
    "\n",
    "gs = GridSearchCV(estimator=pipe_svc,\n",
    "                  param_grid=param_grid,\n",
    "                  scoring=scorer,\n",
    "                  cv=10,\n",
    "                  n_jobs=-1)\n",
    "gs = gs.fit(X_train, y_train)\n",
    "print(gs.best_score_)\n",
    "print(gs.best_params_)"
   ]
  },
  {
   "cell_type": "markdown",
   "metadata": {},
   "source": [
    "## ROC곡선 그리기"
   ]
  },
  {
   "cell_type": "markdown",
   "metadata": {},
   "source": [
    "ROC(Receiver Operating Characteristic) 그래프는 분류기의 임계 값을 바꾸어 가며 계산된 FPR과 TPR 점수를 기반으로 분류 모델을 선택하는 유용한 도구이다.  \n",
    "ROC 그래프의 대각선은 랜덤 추측으로 해석할 수 있고 대각선 아래에 위치한 분류 모델은 랜덤 추측보다 나쁜 셈이다.  \n",
    "완벽한 분류기의 그래프는 TPR이 1이고 FPR이 0인 외쪽 위 구석에 위치한다.  \n",
    "\n",
    "ROC 곡선의 아래 면적인 ROC AUC(ROC Area Under the Curve)를 계산하여 분류 모델의 성능을 종합할 수 있다."
   ]
  },
  {
   "cell_type": "code",
   "execution_count": 38,
   "metadata": {},
   "outputs": [
    {
     "name": "stderr",
     "output_type": "stream",
     "text": [
      "/var/folders/tb/x7hcv5j94gn9b46c7qc1vfth0000gn/T/ipykernel_32630/3539133643.py:6: DeprecationWarning: distutils Version classes are deprecated. Use packaging.version instead.\n",
      "  if scipy_version >= Version('1.4.1'):\n"
     ]
    },
    {
     "data": {
      "image/png": "[encoded data removed]",
      "text/plain": [
       "<Figure size 504x360 with 1 Axes>"
      ]
     },
     "metadata": {
      "needs_background": "light"
     },
     "output_type": "display_data"
    }
   ],
   "source": [
    "from sklearn.metrics import roc_curve, auc\n",
    "from distutils.version import LooseVersion as Version\n",
    "from scipy import __version__ as scipy_version\n",
    "\n",
    "\n",
    "if scipy_version >= Version('1.4.1'):\n",
    "    from numpy import interp\n",
    "else:\n",
    "    from scipy import interp\n",
    "\n",
    "\n",
    "pipe_lr = make_pipeline(StandardScaler(),\n",
    "                        PCA(n_components=2),\n",
    "                        LogisticRegression(penalty='l2', \n",
    "                                           random_state=1,\n",
    "                                           C=100.0))\n",
    "\n",
    "X_train2 = X_train[:, [4, 14]]\n",
    "    \n",
    "\n",
    "cv = list(StratifiedKFold(n_splits=3).split(X_train, y_train))\n",
    "\n",
    "fig = plt.figure(figsize=(7, 5))\n",
    "\n",
    "mean_tpr = 0.0\n",
    "mean_fpr = np.linspace(0, 1, 100)\n",
    "\n",
    "for i, (train, test) in enumerate(cv):\n",
    "    probas = pipe_lr.fit(X_train2[train],\n",
    "                         y_train[train]).predict_proba(X_train2[test])\n",
    "\n",
    "    fpr, tpr, thresholds = roc_curve(y_train[test],\n",
    "                                     probas[:, 1],\n",
    "                                     pos_label=1)\n",
    "    mean_tpr += interp(mean_fpr, fpr, tpr)\n",
    "    mean_tpr[0] = 0.0\n",
    "    roc_auc = auc(fpr, tpr)\n",
    "    plt.plot(fpr,\n",
    "             tpr,\n",
    "             label='ROC fold %d (area = %0.2f)'\n",
    "                   % (i+1, roc_auc))\n",
    "\n",
    "plt.plot([0, 1],\n",
    "         [0, 1],\n",
    "         linestyle='--',\n",
    "         color=(0.6, 0.6, 0.6),\n",
    "         label='Random guessing')\n",
    "\n",
    "mean_tpr /= len(cv)\n",
    "mean_tpr[-1] = 1.0\n",
    "mean_auc = auc(mean_fpr, mean_tpr)\n",
    "plt.plot(mean_fpr, mean_tpr, 'k--',\n",
    "         label='Mean ROC (area = %0.2f)' % mean_auc, lw=2)\n",
    "plt.plot([0, 0, 1],\n",
    "         [0, 1, 1],\n",
    "         linestyle=':',\n",
    "         color='black',\n",
    "         label='Perfect performance')\n",
    "\n",
    "plt.xlim([-0.05, 1.05])\n",
    "plt.ylim([-0.05, 1.05])\n",
    "plt.xlabel('False positive rate')\n",
    "plt.ylabel('True positive rate')\n",
    "plt.legend(loc=\"lower right\")\n",
    "\n",
    "plt.tight_layout()\n",
    "# plt.savefig('images/06_10.png', dpi=300)\n",
    "plt.show()"
   ]
  },
  {
   "cell_type": "code",
   "execution_count": 39,
   "metadata": {},
   "outputs": [
    {
     "name": "stderr",
     "output_type": "stream",
     "text": [
      "/opt/anaconda3/lib/python3.9/site-packages/sklearn/utils/deprecation.py:87: FutureWarning: Function plot_roc_curve is deprecated; Function :func:`plot_roc_curve` is deprecated in 1.0 and will be removed in 1.2. Use one of the class methods: :meth:`sklearn.metric.RocCurveDisplay.from_predictions` or :meth:`sklearn.metric.RocCurveDisplay.from_estimator`.\n",
      "  warnings.warn(msg, category=FutureWarning)\n",
      "/opt/anaconda3/lib/python3.9/site-packages/sklearn/utils/deprecation.py:87: FutureWarning: Function plot_roc_curve is deprecated; Function :func:`plot_roc_curve` is deprecated in 1.0 and will be removed in 1.2. Use one of the class methods: :meth:`sklearn.metric.RocCurveDisplay.from_predictions` or :meth:`sklearn.metric.RocCurveDisplay.from_estimator`.\n",
      "  warnings.warn(msg, category=FutureWarning)\n",
      "/opt/anaconda3/lib/python3.9/site-packages/sklearn/utils/deprecation.py:87: FutureWarning: Function plot_roc_curve is deprecated; Function :func:`plot_roc_curve` is deprecated in 1.0 and will be removed in 1.2. Use one of the class methods: :meth:`sklearn.metric.RocCurveDisplay.from_predictions` or :meth:`sklearn.metric.RocCurveDisplay.from_estimator`.\n",
      "  warnings.warn(msg, category=FutureWarning)\n"
     ]
    },
    {
     "data": {
      "image/png": "[encoded data removed]",
      "text/plain": [
       "<Figure size 504x360 with 1 Axes>"
      ]
     },
     "metadata": {
      "needs_background": "light"
     },
     "output_type": "display_data"
    }
   ],
   "source": [
    "# 사이킷런 0.22 버전에서 plot_roc_curve() 함수와 plot_precesion_recall_curve() 함수를 사용하면 ROC 곡선과 정밀도-재현율 곡선을 쉽게 그릴 수 있다.\n",
    "from sklearn.metrics import plot_roc_curve\n",
    "\n",
    "fig, ax = plt.subplots(figsize=(7, 5))\n",
    "\n",
    "mean_tpr = 0.0\n",
    "mean_fpr = np.linspace(0, 1, 100)\n",
    "\n",
    "for i, (train, test) in enumerate(cv):\n",
    "    pipe_lr.fit(X_train2[train], y_train[train])\n",
    "    roc_disp = plot_roc_curve(pipe_lr, \n",
    "                              X_train2[test], y_train[test], \n",
    "                              name=f'Fold {i}', ax=ax)\n",
    "    mean_tpr += interp(mean_fpr, roc_disp.fpr, roc_disp.tpr)\n",
    "    mean_tpr[0] = 0.0\n",
    "\n",
    "plt.plot([0, 1], [0, 1],\n",
    "         linestyle='--', color=(0.6, 0.6, 0.6),\n",
    "         label='Random guessing')\n",
    "\n",
    "mean_tpr /= len(cv)\n",
    "mean_tpr[-1] = 1.0\n",
    "mean_auc = auc(mean_fpr, mean_tpr)\n",
    "plt.plot(mean_fpr, mean_tpr, 'k--',\n",
    "         label='Mean ROC (area = %0.2f)' % mean_auc, lw=2)\n",
    "\n",
    "plt.plot([0, 0, 1], [0, 1, 1],\n",
    "         linestyle=':', color='black',\n",
    "         label='Perfect performance')\n",
    "\n",
    "plt.xlim([-0.05, 1.05])\n",
    "plt.ylim([-0.05, 1.05])\n",
    "plt.xlabel('False positive rate')\n",
    "plt.ylabel('True positive rate')\n",
    "plt.legend(loc=\"lower right\")\n",
    "# plt.savefig('images/06_plot_roc_curve.png', dpi=300)\n",
    "plt.show()"
   ]
  },
  {
   "cell_type": "code",
   "execution_count": 40,
   "metadata": {},
   "outputs": [
    {
     "name": "stderr",
     "output_type": "stream",
     "text": [
      "/opt/anaconda3/lib/python3.9/site-packages/sklearn/utils/deprecation.py:87: FutureWarning: Function plot_precision_recall_curve is deprecated; Function `plot_precision_recall_curve` is deprecated in 1.0 and will be removed in 1.2. Use one of the class methods: PrecisionRecallDisplay.from_predictions or PrecisionRecallDisplay.from_estimator.\n",
      "  warnings.warn(msg, category=FutureWarning)\n",
      "/opt/anaconda3/lib/python3.9/site-packages/sklearn/utils/deprecation.py:87: FutureWarning: Function plot_precision_recall_curve is deprecated; Function `plot_precision_recall_curve` is deprecated in 1.0 and will be removed in 1.2. Use one of the class methods: PrecisionRecallDisplay.from_predictions or PrecisionRecallDisplay.from_estimator.\n",
      "  warnings.warn(msg, category=FutureWarning)\n",
      "/opt/anaconda3/lib/python3.9/site-packages/sklearn/utils/deprecation.py:87: FutureWarning: Function plot_precision_recall_curve is deprecated; Function `plot_precision_recall_curve` is deprecated in 1.0 and will be removed in 1.2. Use one of the class methods: PrecisionRecallDisplay.from_predictions or PrecisionRecallDisplay.from_estimator.\n",
      "  warnings.warn(msg, category=FutureWarning)\n"
     ]
    },
    {
     "data": {
      "image/png": "[encoded data removed]",
      "text/plain": [
       "<Figure size 504x360 with 1 Axes>"
      ]
     },
     "metadata": {
      "needs_background": "light"
     },
     "output_type": "display_data"
    }
   ],
   "source": [
    "from sklearn.metrics import plot_precision_recall_curve\n",
    "\n",
    "fig, ax = plt.subplots(figsize=(7, 5))\n",
    "\n",
    "mean_precision = 0.0\n",
    "mean_recall = np.linspace(0, 1, 100)\n",
    "\n",
    "for i, (train, test) in enumerate(cv):\n",
    "    pipe_lr.fit(X_train2[train], y_train[train])\n",
    "    pr_disp = plot_precision_recall_curve(\n",
    "        pipe_lr, X_train2[test], y_train[test], \n",
    "        name=f'Fold {i}', ax=ax)\n",
    "    mean_precision += interp(mean_recall, pr_disp.recall[::-1], \n",
    "                             pr_disp.precision[::-1])\n",
    "\n",
    "plt.plot([0, 1], [1, 0],\n",
    "         linestyle='--', color=(0.6, 0.6, 0.6),\n",
    "         label='Random guessing')\n",
    "\n",
    "mean_precision /= len(cv)\n",
    "mean_auc = auc(mean_recall, mean_precision)\n",
    "plt.plot(mean_recall, mean_precision, 'k--',\n",
    "         label='Mean ROC (area = %0.2f)' % mean_auc, lw=2)\n",
    "\n",
    "plt.plot([0, 1, 1], [1, 1, 0],\n",
    "         linestyle=':', color='black',\n",
    "         label='Perfect performance')\n",
    "\n",
    "plt.xlim([-0.05, 1.05])\n",
    "plt.ylim([-0.05, 1.05])\n",
    "plt.xlabel('Recall')\n",
    "plt.ylabel('Precision')\n",
    "plt.legend(loc=\"lower left\")\n",
    "# plt.savefig('images/06_plot_precision_recall_curve.png', dpi=300)\n",
    "plt.show()"
   ]
  },
  {
   "cell_type": "markdown",
   "metadata": {},
   "source": [
    "이 절에서 언급한 성능 지표는 이진 분류에 대한 것이다. 사이킷런은 이런 평균 지표에 **마크로**(macro)와 **마이크로**(micro) 평균 방식을 구현하여 OvA(One-versus-All) 방식을 사용하는 다중 분류로 확장한다.  \n",
    "마이크로 평균은 클래스별로 TP, TN, FP, FN을 계산한다.  \n",
    "예를 들어 k개의 클래스가 있는 경우 정밀도의 마이크로 평균은 다음과 같이 계산한다.  \n",
    "$$PRE_{mirco}={{TP_{1}+ \\cdots + TP_{k}} \\over {TP{1}+ \\cdots + TP_{k}+FP_{1}+ \\cdots +FP_{k}}}$$  \n",
    "\n",
    "마크로 평균은 단순하게 클래스별 정밀도의 평균이다.  \n",
    "$$PRE_{macro} = {{PRE_{1}+ \\cdots + PRE_{k}} \\over k}$$  \n",
    "\n",
    "마이크로 평균은 각 샘플이나 예측에 동일한 가중치를 부여하고자 할 때 사용한다. 마크로 평균은 모든 클래스에 동일한 가중치를 부여하여 분류기의 전반적인 성능을 평가한다.  \n",
    "이 방식에서는 가장 빈도 높은 클래스 레이블의 성능이 중요하다."
   ]
  },
  {
   "cell_type": "markdown",
   "metadata": {},
   "source": [
    "## 다중 분류의 성능 지표"
   ]
  },
  {
   "cell_type": "markdown",
   "metadata": {},
   "source": [
    "이 절에서 언급한 성능 지표는 이진 분류에 대한 것이다. 사이킷런은 이런 평균 지표에 **마크로**(macro)와 **마이크로**(micro) 평균 방식을 구현하여 OvA(One-versus-All) 방식을 사용하는 다중 분류로 확장한다.  \n",
    "마이크로 평균은 클래스별로 TP, TN, FP, FN을 계산한다.  \n",
    "예를 들어 k개의 클래스가 있는 경우 정밀도의 마이크로 평균은 다음과 같이 계산한다.  \n",
    "$$PRE_{mirco}={{TP_{1}+ \\cdots + TP_{k}} \\over {TP{1}+ \\cdots + TP_{k}+FP_{1}+ \\cdots +FP_{k}}}$$  \n",
    "\n",
    "마크로 평균은 단순하게 클래스별 정밀도의 평균이다.  \n",
    "$$PRE_{macro} = {{PRE_{1}+ \\cdots + PRE_{k}} \\over k}$$  \n",
    "\n",
    "마이크로 평균은 각 샘플이나 예측에 동일한 가중치를 부여하고자 할 때 사용한다. 마크로 평균은 모든 클래스에 동일한 가중치를 부여하여 분류기의 전반적인 성능을 평가한다.  \n",
    "이 방식에서는 가장 빈도 높은 클래스 레이블의 성능이 중요하다."
   ]
  },
  {
   "cell_type": "code",
   "execution_count": 41,
   "metadata": {},
   "outputs": [],
   "source": [
    "pre_scorer = make_scorer(score_func=precision_score, \n",
    "                         pos_label=1, \n",
    "                         greater_is_better=True, \n",
    "                         average='micro')"
   ]
  },
  {
   "cell_type": "markdown",
   "metadata": {},
   "source": [
    "# 불균형한 클래스 다루기"
   ]
  },
  {
   "cell_type": "markdown",
   "metadata": {},
   "source": [
    "클래스 불균형은 실전 데이터를 다룰 때 매우 자주 나타나는 문제이다. 한 개 또는 여러 개의 클래스 샘플이 데이터셋에 너무 많을 때이다. 이런 문제가 일어날 수 있는 분야는 스팸 필터링, 부정 감지, 질병 차단 등이다.  "
   ]
  },
  {
   "cell_type": "code",
   "execution_count": 44,
   "metadata": {},
   "outputs": [],
   "source": [
    "# 불균형한 데이터셋 만들기\n",
    "# 212개의 악성 종양(클래스 1)과 357개의 악성 종양(클래스 0)을 가진 불균형 유방암 데이터셋\n",
    "X_imb = np.vstack((X[y == 0], X[y == 1][:40]))\n",
    "y_imb = np.hstack((y[y == 0], y[y == 1][:40]))"
   ]
  },
  {
   "cell_type": "markdown",
   "metadata": {},
   "source": [
    "무조건 다수 클래스(양성 종양의 클래스 0)를 예측하는 모델은 거의 90%의 정확도를 달성할 것."
   ]
  },
  {
   "cell_type": "code",
   "execution_count": 43,
   "metadata": {},
   "outputs": [
    {
     "data": {
      "text/plain": [
       "89.92443324937027"
      ]
     },
     "execution_count": 43,
     "metadata": {},
     "output_type": "execute_result"
    }
   ],
   "source": [
    "y_pred = np.zeros(y_imb.shape[0])\n",
    "np.mean(y_pred == y_imb) * 100"
   ]
  },
  {
   "cell_type": "markdown",
   "metadata": {},
   "source": [
    "이런 데이터셋에 분류 모델을 훈련할 때ㅔ 모델을 비교하기 위해 정확도를 사용하는 것보다 다른 지표를 활용하는 것이 낫다.  \n",
    "애플리케이션에서 주요 관심 대상이 무엇인지에 따라 정밀도, 재현율, ROC 곡선 등을 사용할 수 있다.  \n",
    "\n",
    "머신 러닝 모델을 평가하는 것과 별개로 클래스 불균형은 모델이 훈련되는 동안 학습 알고리즘 자체에 영향을 미친다.  \n",
    "머신 러닝 알고리즘이 일반적으로 훈련하는 동안 처리한 샘플에서 계산한 보상 또는 비용 함수의 합을 최적화한다. 결정 규칙은 다수 클래스 쪽으로 편향되기 쉽다.  \n",
    "\n",
    "모델을 훈련하는 동안 불균형한 클래스를 다루는 한 가지 방법은 소수 클래스에서 발생한 예측 오루에 큰 벌칙을 부여하는 것이다.  \n",
    "사이킷런에서는 대부분의 분류기에 구현된 `class_weight` 매개변수를 `class_weight='balanced'`로 설정해서 이런 벌칙을 편리하게 조정할 수 있다.  \n",
    "\n",
    "불균형한 클래스를 다루는 데 널리 사용하는 다른 전략은 소수 클래스의 샘플을 늘리거나 다수 클래스의 샘플을 줄이거나 인공적으로 훈련 샘플을 생성하는 것이다. 아쉽지만 여러 도메인에 걸쳐 가장 잘 작동하는 보편적인 솔루션이나 기법은 없다. 실전에서는 주어진 문제에 여러 전략을 시도해서 결과를 평가하고 가장 적절한 기법을 선택하는 것이 좋다."
   ]
  },
  {
   "cell_type": "code",
   "execution_count": 45,
   "metadata": {},
   "outputs": [
    {
     "name": "stdout",
     "output_type": "stream",
     "text": [
      "샘플링하기 전 클래스 1의 샘플 개수: 40\n",
      "샘플링하기 후 클래스 1의 샘플 개수: 357\n"
     ]
    }
   ],
   "source": [
    "from sklearn.utils import resample\n",
    "\n",
    "print('샘플링하기 전 클래스 1의 샘플 개수:', X_imb[y_imb == 1].shape[0])\n",
    "\n",
    "X_upsampled, y_upsampled = resample(X_imb[y_imb == 1],\n",
    "                                    y_imb[y_imb == 1],\n",
    "                                    replace=True,\n",
    "                                    n_samples=X_imb[y_imb == 0].shape[0],\n",
    "                                    random_state=123)\n",
    "\n",
    "print('샘플링하기 후 클래스 1의 샘플 개수:', X_upsampled.shape[0])"
   ]
  },
  {
   "cell_type": "code",
   "execution_count": 46,
   "metadata": {},
   "outputs": [],
   "source": [
    "X_bal = np.vstack((X[y == 0], X_upsampled))\n",
    "y_bal = np.hstack((y[y == 0], y_upsampled))"
   ]
  },
  {
   "cell_type": "code",
   "execution_count": 47,
   "metadata": {},
   "outputs": [
    {
     "data": {
      "text/plain": [
       "50.0"
      ]
     },
     "execution_count": 47,
     "metadata": {},
     "output_type": "execute_result"
    }
   ],
   "source": [
    "y_pred = np.zeros(y_bal.shape[0])\n",
    "np.mean(y_pred == y_bal) * 100\n"
   ]
  }
 ],
 "metadata": {
  "kernelspec": {
   "display_name": "Python 3.9.12",
   "language": "python",
   "name": "python3"
  },
  "language_info": {
   "codemirror_mode": {
    "name": "ipython",
    "version": 3
   },
   "file_extension": ".py",
   "mimetype": "text/x-python",
   "name": "python",
   "nbconvert_exporter": "python",
   "pygments_lexer": "ipython3",
   "version": "3.9.12"
  },
  "orig_nbformat": 4,
  "vscode": {
   "interpreter": {
    "hash": "40d3a090f54c6569ab1632332b64b2c03c39dcf918b08424e98f38b5ae0af88f"
   }
  }
 },
 "nbformat": 4,
 "nbformat_minor": 2
}
